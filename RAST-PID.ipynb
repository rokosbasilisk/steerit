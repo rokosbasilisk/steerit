{
 "cells": [
  {
   "cell_type": "code",
   "execution_count": 1,
   "id": "4db90be3-9913-4b5c-9f95-c91a9808fc6c",
   "metadata": {
    "scrolled": true
   },
   "outputs": [],
   "source": [
    "# !pip install repeng accelerate datasets"
   ]
  },
  {
   "cell_type": "code",
   "execution_count": 2,
   "id": "e3a42f1a-a1e3-42e6-85a2-1a84f4b967b1",
   "metadata": {},
   "outputs": [
    {
     "name": "stdout",
     "output_type": "stream",
     "text": [
      "GPU 0: NVIDIA A100-PCIE-40GB\n",
      "  Memory: 42.41 GB\n",
      "Loading deepseek-ai/DeepSeek-R1-Distill-Qwen-1.5B on cuda with torch.float32...\n"
     ]
    },
    {
     "name": "stderr",
     "output_type": "stream",
     "text": [
      "Sliding Window Attention is enabled but not implemented for `sdpa`; unexpected results may be encountered.\n"
     ]
    },
    {
     "name": "stdout",
     "output_type": "stream",
     "text": [
      "\n",
      "• Building dense-reasoning control vector...\n",
      "Training control vector with 100 examples...\n"
     ]
    },
    {
     "name": "stderr",
     "output_type": "stream",
     "text": [
      "  6%|▌         | 11/200 [00:03<01:18,  2.42it/s]Token indices sequence length is longer than the specified maximum sequence length for this model (20369 > 16384). Running this sequence through the model will result in indexing errors\n",
      "100%|██████████| 200/200 [02:30<00:00,  1.33it/s]\n",
      "100%|██████████| 27/27 [00:00<00:00, 53.46it/s]"
     ]
    },
    {
     "name": "stdout",
     "output_type": "stream",
     "text": [
      "Control vector training complete\n"
     ]
    },
    {
     "name": "stderr",
     "output_type": "stream",
     "text": [
      "\n"
     ]
    }
   ],
   "source": [
    "#!/usr/bin/env python3\n",
    "# ===============================================================\n",
    "#         RASPID  –  Reasoning-Aware Steering with PID control\n",
    "#         Robust Implementation with Numerical Stability Fixes\n",
    "# ===============================================================\n",
    "import torch\n",
    "from transformers import AutoTokenizer, AutoModelForCausalLM\n",
    "from repeng import ControlModel, ControlVector, DatasetEntry\n",
    "from datasets import load_dataset\n",
    "import re\n",
    "import numpy as np\n",
    "from tqdm import tqdm\n",
    "import time\n",
    "\n",
    "# ---------------- CONFIG ---------------------------------------------------\n",
    "MODEL_NAME = \"deepseek-ai/DeepSeek-R1-Distill-Qwen-1.5B\"\n",
    "DEVICE = \"cuda\" if torch.cuda.is_available() else \"cpu\"\n",
    "DTYPE = torch.float32  # Using full precision for numerical stability\n",
    "CHUNK_SIZE = 64        # Size of chunks for analysis\n",
    "\n",
    "# Sampling parameters\n",
    "TEMP = 0.7\n",
    "TOP_P = 0.9\n",
    "REP_PENALTY = 1.2\n",
    "\n",
    "# Print GPU info\n",
    "if torch.cuda.is_available():\n",
    "   for i in range(torch.cuda.device_count()):\n",
    "       print(f\"GPU {i}: {torch.cuda.get_device_name(i)}\")\n",
    "       print(f\"  Memory: {torch.cuda.get_device_properties(i).total_memory / 1e9:.2f} GB\")\n",
    "\n",
    "# ---------------- LOAD MODEL ----------------------------------------------\n",
    "print(f\"Loading {MODEL_NAME} on {DEVICE} with {DTYPE}...\")\n",
    "tokenizer = AutoTokenizer.from_pretrained(MODEL_NAME)\n",
    "base_model = AutoModelForCausalLM.from_pretrained(\n",
    "   MODEL_NAME, \n",
    "   torch_dtype=DTYPE,\n",
    "   device_map=\"auto\" if DEVICE==\"cuda\" else None\n",
    ").eval()\n",
    "\n",
    "# ---------------- HELPER FUNCTIONS ----------------------------------------\n",
    "def sanitize(t):\n",
    "   \"\"\"Safely clamp tensor values and handle NaNs\"\"\"\n",
    "   return torch.nan_to_num(torch.clamp(t, -100.0, 100.0), nan=0.0)\n",
    "\n",
    "def safe_entropy(logits):\n",
    "   \"\"\"Calculate entropy with extra safeguards against NaN\"\"\"\n",
    "   try:\n",
    "       # Add small epsilon to prevent log(0)\n",
    "       p = torch.softmax(logits, dim=-1) + 1e-10\n",
    "       p = p / p.sum()  # Renormalize\n",
    "       \n",
    "       # Stable entropy calculation\n",
    "       entropy_val = -torch.sum(p * torch.log(p))\n",
    "       \n",
    "       # Convert to float and check for valid value\n",
    "       result = float(entropy_val)\n",
    "       if np.isnan(result) or np.isinf(result):\n",
    "           print(\"Warning: Entropy calculation returned NaN/Inf, using default\")\n",
    "           return 4.0  # Default reasonable entropy\n",
    "       return result\n",
    "   except Exception as e:\n",
    "       print(f\"Error in entropy calculation: {e}\")\n",
    "       return 4.0  # Default value\n",
    "\n",
    "def safe_kl_div(a, b):\n",
    "   \"\"\"Calculate KL divergence with safeguards against numerical issues\"\"\"\n",
    "   try:\n",
    "       # Add small epsilon for numerical stability\n",
    "       pa = torch.softmax(a, dim=-1) + 1e-10\n",
    "       pb = torch.softmax(b, dim=-1) + 1e-10\n",
    "       \n",
    "       # Renormalize\n",
    "       pa = pa / pa.sum()\n",
    "       pb = pb / pb.sum()\n",
    "       \n",
    "       # Calculate KL divergence\n",
    "       kl = torch.sum(pa * (torch.log(pa) - torch.log(pb)))\n",
    "       \n",
    "       # Convert to float and check for valid value\n",
    "       result = float(kl)\n",
    "       if np.isnan(result) or np.isinf(result):\n",
    "           print(\"Warning: KL calculation returned NaN/Inf, using default\")\n",
    "           return 0.01  # Default small KL value\n",
    "       \n",
    "       # Clip to reasonable range\n",
    "       return max(min(result, 10.0), 0.0)\n",
    "   except Exception as e:\n",
    "       print(f\"Error in KL calculation: {e}\")\n",
    "       return 0.01  # Default value\n",
    "\n",
    "# ---------------- TRAIN DENSE-REASONING VECTOR ----------------------------\n",
    "print(\"\\n• Building dense-reasoning control vector...\")\n",
    "control_model = ControlModel(base_model, [20]).to(DEVICE)  # Use layer 20 for control\n",
    "\n",
    "# Process and prepare training data\n",
    "ds = load_dataset(\"rb/aime_reasoning\", \"default\")[\"train\"].select(range(100))\n",
    "def strip(txt): return re.sub(r\"[^\\x20-\\x7E]\", \" \", txt)  # ASCII only for training\n",
    "pairs = [DatasetEntry(strip(r[\"refined_reasoning\"]),\n",
    "                    strip(r[\"reasoning_content\"])) for r in ds]\n",
    "\n",
    "# Train the control vector\n",
    "print(\"Training control vector with 100 examples...\")\n",
    "ctrl_vec = ControlVector.train(control_model, tokenizer, pairs, batch_size=1)\n",
    "print(\"Control vector training complete\")"
   ]
  },
  {
   "cell_type": "code",
   "execution_count": 3,
   "id": "79fb3423-5bc2-4250-9846-79e5e4bf15a4",
   "metadata": {},
   "outputs": [],
   "source": [
    "MAX_TOKENS = 2048       # Maximum generation length\n",
    "\n",
    "# ---------------- BASELINE GENERATION FUNCTION ---------------------------\n",
    "def generate_baseline(prompt, max_tokens=MAX_TOKENS):\n",
    "   \"\"\"Reliable baseline generation using HuggingFace's generate method\"\"\"\n",
    "   print(f\"\\nRunning baseline generation...\")\n",
    "   \n",
    "   # Encode prompt and setup\n",
    "   inputs = tokenizer(prompt, return_tensors=\"pt\").to(DEVICE)\n",
    "   input_len = len(inputs.input_ids[0])\n",
    "   \n",
    "   # Generate with standard parameters\n",
    "   print(\"Starting generation...\")\n",
    "   outputs = base_model.generate(\n",
    "       inputs.input_ids,\n",
    "       max_new_tokens=max_tokens,\n",
    "       do_sample=True,\n",
    "       temperature=TEMP,\n",
    "       top_p=TOP_P,\n",
    "       repetition_penalty=REP_PENALTY,\n",
    "       pad_token_id=tokenizer.eos_token_id,\n",
    "       attention_mask=inputs.attention_mask\n",
    "   )\n",
    "   \n",
    "   # Decode and return\n",
    "   generated_text = tokenizer.decode(outputs[0], skip_special_tokens=True)\n",
    "   new_tokens = len(outputs[0]) - input_len\n",
    "   \n",
    "   print(f\"Baseline generation complete: {new_tokens} new tokens generated\")\n",
    "   return generated_text, new_tokens"
   ]
  },
  {
   "cell_type": "code",
   "execution_count": 8,
   "id": "6b9d7a3a-6744-4ceb-8b4d-a0c3d6716203",
   "metadata": {},
   "outputs": [],
   "source": [
    "@torch.inference_mode()\n",
    "def generate_raspid_improved(prompt, max_tokens=MAX_TOKENS):\n",
    "    \"\"\"Improved RASPID generation with adaptive control and safety mechanisms\"\"\"\n",
    "    print(f\"\\nRunning improved RASPID generation...\")\n",
    "\n",
    "    # More conservative parameters - lower influence overall\n",
    "    KP_base = 0.3  # Lower P-term to prevent overshoot\n",
    "    KI_base = 0.03  # Slightly higher I-term to maintain state\n",
    "    KD_base = 0.05  # Higher D-term to dampen oscillations\n",
    "    \n",
    "    # More appropriate setpoints based on reasoning patterns\n",
    "    KL_setpoint = 0.1  # Lower KL target - less divergence for coherence\n",
    "    ENT_setpoint = 2.0  # Higher entropy target - more exploration\n",
    "    \n",
    "    print(f\"Base parameters: KP={KP_base:.2f}, KI={KI_base:.2f}, KD={KD_base:.2f}\")\n",
    "    print(f\"Setpoints: KL={KL_setpoint:.2f}, ENT={ENT_setpoint:.2f}\")\n",
    "\n",
    "    # Encode prompt\n",
    "    input_ids = tokenizer(prompt, return_tensors=\"pt\").to(DEVICE).input_ids[0]\n",
    "    prompt_len = len(input_ids)\n",
    "\n",
    "    # PID controller state\n",
    "    integ = 0.0\n",
    "    deriv = 0.0\n",
    "    prev_err = 0.0\n",
    "    alpha = 0.0\n",
    "    max_alpha_history = 0.0  # Track historical maximum alpha\n",
    "    \n",
    "    # Performance tracking\n",
    "    repeated_ngrams = set()\n",
    "    recent_tokens = []\n",
    "    off_track_count = 0\n",
    "\n",
    "    # Chunk tracking\n",
    "    chunk_sum = None\n",
    "    tok_in_chunk = 0\n",
    "    last_vec = None\n",
    "    \n",
    "    # Vector history for quality monitoring\n",
    "    vector_history = []\n",
    "    content_quality = 1.0  # Quality score (1.0 = good, 0.0 = bad)\n",
    "\n",
    "    # Output tracking\n",
    "    output_ids = input_ids.clone()\n",
    "    generated = []\n",
    "    past = None\n",
    "\n",
    "    # For logging PID controller performance\n",
    "    pid_log = []\n",
    "    \n",
    "    # Generation parameters\n",
    "    initial_tokens = 100  # Longer unguided phase for context buildup\n",
    "    transition_window = 50  # Gradual transition window\n",
    "    steering_active = False\n",
    "    steering_intensity = 0.0  # Gradual ramp-up\n",
    "\n",
    "    # Generation loop\n",
    "    pbar = tqdm(total=max_tokens, desc=\"Improved RASPID\")\n",
    "    try:\n",
    "        for i in range(max_tokens):\n",
    "            # Determine steering state\n",
    "            tokens_generated = len(generated)\n",
    "            \n",
    "            # Gradual transition to steering\n",
    "            if tokens_generated >= initial_tokens and tokens_generated < (initial_tokens + transition_window):\n",
    "                if not steering_active:\n",
    "                    print(f\"\\n----- BEGINNING GRADUAL TRANSITION TO STEERING -----\")\n",
    "                    steering_active = True\n",
    "                \n",
    "                # Linear ramp-up of steering intensity\n",
    "                steering_intensity = min(1.0, (tokens_generated - initial_tokens) / transition_window)\n",
    "            elif tokens_generated >= (initial_tokens + transition_window):\n",
    "                steering_intensity = 1.0\n",
    "            \n",
    "            # Apply control only if steering is active with meaningful alpha\n",
    "            if steering_active and alpha > 0.01:\n",
    "                # Apply smooth, sigmoid-scaled alpha for more gradual influence\n",
    "                sigmoid_alpha = 1.0 / (1.0 + math.exp(-6 * (alpha - 0.5)))  # Sigmoid centered at 0.5\n",
    "                effective_alpha = min(0.3, sigmoid_alpha * steering_intensity * alpha)\n",
    "                \n",
    "                if i % 50 == 0 or effective_alpha > 0.15:\n",
    "                    print(f\"Step {i}: Alpha={alpha:.3f}, Effective={effective_alpha:.3f}, Quality={content_quality:.2f}\")\n",
    "                \n",
    "                control_model.set_control(ctrl_vec, coeff=effective_alpha)\n",
    "            else:\n",
    "                control_model.reset()\n",
    "            \n",
    "            # Forward pass through model\n",
    "            with torch.no_grad():\n",
    "                outputs = control_model(\n",
    "                    input_ids=output_ids[-1:].unsqueeze(0),\n",
    "                    past_key_values=past,\n",
    "                    use_cache=True\n",
    "                )\n",
    "                past = outputs.past_key_values\n",
    "                \n",
    "                # Get logits with safety measures\n",
    "                logits = sanitize(outputs.logits[0, -1, :])\n",
    "                \n",
    "                # IMPROVEMENT: Detect repetition patterns using n-grams\n",
    "                if tokens_generated > 10:\n",
    "                    # Detect 4-gram repetition (can adjust n-gram size)\n",
    "                    recent_tokens = generated[-20:]  # Look at last 20 tokens\n",
    "                    \n",
    "                    # Create 4-grams\n",
    "                    for j in range(len(recent_tokens) - 4):\n",
    "                        ngram = tuple(recent_tokens[j:j+4])\n",
    "                        if ngram in repeated_ngrams:\n",
    "                            # Detected repetition, penalize\n",
    "                            off_track_count += 1\n",
    "                            content_quality *= 0.95  # Degrade quality score\n",
    "                            if off_track_count > 5:\n",
    "                                print(f\"WARNING: Repetition detected, reducing control strength\")\n",
    "                                alpha *= 0.7  # Reduce steering when repetitive\n",
    "                        else:\n",
    "                            repeated_ngrams.add(ngram)\n",
    "                \n",
    "                # Accumulate for chunk analysis\n",
    "                chunk_sum = logits.clone() if chunk_sum is None else chunk_sum + logits\n",
    "                tok_in_chunk += 1\n",
    "                \n",
    "                # Process completed chunk\n",
    "                if tok_in_chunk >= CHUNK_SIZE:\n",
    "                    # Calculate chunk vector and entropy\n",
    "                    vec = chunk_sum / tok_in_chunk\n",
    "                    H = safe_entropy(logits)\n",
    "                    \n",
    "                    # Store vector for quality monitoring\n",
    "                    if len(vector_history) < 5:\n",
    "                        vector_history.append(vec)\n",
    "                    else:\n",
    "                        vector_history.pop(0)\n",
    "                        vector_history.append(vec)\n",
    "                    \n",
    "                    # IMPROVEMENT: Monitor content quality through vector consistency\n",
    "                    if len(vector_history) >= 3:\n",
    "                        # Check if vectors are becoming too similar (stuck in a pattern)\n",
    "                        # or too different (going off track)\n",
    "                        kl_prev_2 = safe_kl_div(vector_history[-1], vector_history[-3])\n",
    "                        if kl_prev_2 < 0.01 or kl_prev_2 > 1.0:\n",
    "                            off_track_count += 1\n",
    "                            content_quality *= 0.9\n",
    "                            print(f\"Warning: Content quality degrading: {content_quality:.2f}, KL={kl_prev_2:.3f}\")\n",
    "                        else:\n",
    "                            # Gradually recover quality when generation is good\n",
    "                            content_quality = min(1.0, content_quality * 1.05)\n",
    "                            off_track_count = max(0, off_track_count - 1)\n",
    "                    \n",
    "                    if last_vec is not None:\n",
    "                        # Calculate KL divergence with safety\n",
    "                        kl = safe_kl_div(vec, last_vec)\n",
    "                        \n",
    "                        # IMPROVEMENT: Reset or reduce steering if KL is too high (going off track)\n",
    "                        if kl > 0.8 and steering_active and tokens_generated > initial_tokens + 100:\n",
    "                            print(f\"WARNING: High KL={kl:.3f} detected, reducing steering\")\n",
    "                            alpha *= 0.7\n",
    "                            integ *= 0.5  # Reset integrator partially\n",
    "                        \n",
    "                        # Only apply PID control if steering is active\n",
    "                        if steering_active:\n",
    "                            # Adaptive weighting based on progress & quality\n",
    "                            progress = min(1.0, tokens_generated / 300.0)\n",
    "                            kl_weight = 0.3 + 0.2 * progress\n",
    "                            ent_weight = 0.7 - 0.3 * progress\n",
    "                            \n",
    "                            # IMPROVEMENT: Scale weights by content quality\n",
    "                            kl_weight *= content_quality\n",
    "                            ent_weight *= content_quality\n",
    "                            \n",
    "                            # Compute weighted error - prioritize entropy early, KL later\n",
    "                            err = kl_weight * (kl - KL_setpoint) + ent_weight * (ENT_setpoint - H)\n",
    "                            \n",
    "                            # IMPROVEMENT: Adaptive PID parameters based on generation quality\n",
    "                            # When quality is low, reduce all parameters to back off control\n",
    "                            KP = KP_base * content_quality\n",
    "                            KI = KI_base * content_quality\n",
    "                            KD = KD_base * content_quality\n",
    "                            \n",
    "                            # Update integral term with anti-windup and leaky integration\n",
    "                            # Apply proportional leakage to prevent integral windup\n",
    "                            integ = 0.90 * integ + err\n",
    "                            \n",
    "                            # Improved clamping with variable bounds - more restricted when quality is low\n",
    "                            max_i = 0.5 * content_quality\n",
    "                            integ = max(min(integ, max_i), -max_i)\n",
    "                            \n",
    "                            # Calculate derivative with better smoothing\n",
    "                            deriv = 0.7 * deriv + 0.3 * (err - prev_err)\n",
    "                            prev_err = err\n",
    "                            \n",
    "                            # Calculate alpha with adaptive parameters and dynamic damping\n",
    "                            # Lower damping when quality is good, more damping when problematic\n",
    "                            damping = 0.5 + 0.5 * content_quality\n",
    "                            \n",
    "                            # IMPROVEMENT: More balanced term contribution\n",
    "                            p_term = KP * err\n",
    "                            i_term = KI * integ\n",
    "                            d_term = KD * deriv\n",
    "                            \n",
    "                            raw_alpha = damping * (p_term + i_term + d_term)\n",
    "                            \n",
    "                            # Progressive, quality-aware clamping for alpha\n",
    "                            # Lower max limit when quality is poor\n",
    "                            max_alpha = 0.3 * content_quality + 0.1 * progress\n",
    "                            alpha = max(min(raw_alpha, max_alpha), 0.0)\n",
    "                            \n",
    "                            # Track the historical maximum alpha for detecting issues\n",
    "                            if alpha > max_alpha_history:\n",
    "                                max_alpha_history = alpha\n",
    "                            \n",
    "                            # IMPROVEMENT: Detect alpha saturation (sign of control issues)\n",
    "                            if alpha >= max_alpha and alpha > 0.2:\n",
    "                                # Alpha is hitting the ceiling too often\n",
    "                                print(f\"NOTE: Alpha saturation detected: {alpha:.3f}\")\n",
    "                                \n",
    "                                # Back off control to prevent runaway steering\n",
    "                                if content_quality < 0.8:\n",
    "                                    print(f\"WARNING: Quality issues with high alpha, reducing by 20%\")\n",
    "                                    alpha *= 0.8\n",
    "                                    integ *= 0.7  # Reset integrator partially\n",
    "                            \n",
    "                            # Log PID state\n",
    "                            pid_log.append({\n",
    "                                'step': i,\n",
    "                                'tokens_generated': tokens_generated,\n",
    "                                'kl': kl,\n",
    "                                'entropy': H,\n",
    "                                'error': err,\n",
    "                                'content_quality': content_quality,\n",
    "                                'progress': progress,\n",
    "                                'kl_weight': kl_weight,\n",
    "                                'ent_weight': ent_weight,\n",
    "                                'p_term': p_term,\n",
    "                                'i_term': i_term,\n",
    "                                'd_term': d_term,\n",
    "                                'alpha': alpha,\n",
    "                                'effective_alpha': effective_alpha if steering_active and alpha > 0.01 else 0\n",
    "                            })\n",
    "                    \n",
    "                    # Reset for next chunk\n",
    "                    last_vec = vec\n",
    "                    chunk_sum = None\n",
    "                    tok_in_chunk = 0\n",
    "                \n",
    "                # IMPROVEMENT: Adaptive temperature based on quality and steering\n",
    "                # - Higher temperature when quality is low (exploration)\n",
    "                # - Lower temperature when steering actively (precision)\n",
    "                temperature = TEMP * (1.1 if content_quality < 0.7 else \n",
    "                                    (0.95 if steering_active and alpha > 0.1 else 1.0))\n",
    "                \n",
    "                # IMPROVEMENT: Incorporate repetition penalty dynamically\n",
    "                rep_penalty = REP_PENALTY\n",
    "                if off_track_count > 3:\n",
    "                    rep_penalty = REP_PENALTY * (1.0 + 0.1 * off_track_count)\n",
    "                    if i % 50 == 0:\n",
    "                        print(f\"Increased repetition penalty to {rep_penalty:.2f}\")\n",
    "                \n",
    "                # Apply penalties to logits directly for problematic tokens if needed\n",
    "                if off_track_count > 5:\n",
    "                    # Identify tokens that are overused in recent output and penalize\n",
    "                    token_counts = {}\n",
    "                    for tok in recent_tokens:\n",
    "                        token_counts[tok] = token_counts.get(tok, 0) + 1\n",
    "                    \n",
    "                    # Penalize overused tokens\n",
    "                    for tok, count in token_counts.items():\n",
    "                        if count > 3:  # Token used more than 3 times recently\n",
    "                            logits[tok] -= 1.0 * count  # Progressive penalty\n",
    "                \n",
    "                # Sample token with adjusted parameters\n",
    "                probs = torch.softmax(logits / temperature, dim=-1)\n",
    "                next_token = torch.multinomial(probs, 1).item()\n",
    "                \n",
    "                # Add to output\n",
    "                output_ids = torch.cat([output_ids, torch.tensor([next_token], device=DEVICE)])\n",
    "                generated.append(next_token)\n",
    "                pbar.update(1)\n",
    "                \n",
    "                # IMPROVEMENT: Emergency intervention if going off-track for too long\n",
    "                if off_track_count > 10:\n",
    "                    print(f\"EMERGENCY: Generation appears to be off-track, resetting control\")\n",
    "                    control_model.reset()\n",
    "                    alpha = 0.0\n",
    "                    integ = 0.0\n",
    "                    deriv = 0.0\n",
    "                    off_track_count = 0\n",
    "                    content_quality = 0.6  # Set to medium-low but allow recovery\n",
    "                \n",
    "                # Stop on EOS token\n",
    "                if next_token == tokenizer.eos_token_id:\n",
    "                    print(\"EOS token detected, stopping generation\")\n",
    "                    break\n",
    "    except Exception as e:\n",
    "        import traceback\n",
    "        print(f\"Error during generation: {e}\")\n",
    "        traceback.print_exc()\n",
    "    finally:\n",
    "        pbar.close()\n",
    "        control_model.reset()\n",
    "\n",
    "    # Decode output\n",
    "    generated_text = tokenizer.decode(output_ids, skip_special_tokens=True)\n",
    "    new_tokens = len(output_ids) - prompt_len\n",
    "\n",
    "    print(f\"Improved RASPID generation complete: {new_tokens} new tokens generated\")\n",
    "\n",
    "    # Print PID controller analysis\n",
    "    if pid_log:\n",
    "        print(\"\\n----- PID CONTROLLER ANALYSIS -----\")\n",
    "        # Component strength analysis\n",
    "        p_values = [abs(entry['p_term']) for entry in pid_log]\n",
    "        i_values = [abs(entry['i_term']) for entry in pid_log] \n",
    "        d_values = [abs(entry['d_term']) for entry in pid_log]\n",
    "        \n",
    "        print(f\"P-term avg magnitude: {sum(p_values)/len(p_values):.4f}\")\n",
    "        print(f\"I-term avg magnitude: {sum(i_values)/len(i_values):.4f}\")\n",
    "        print(f\"D-term avg magnitude: {sum(d_values)/len(d_values):.4f}\")\n",
    "        \n",
    "        # Component ratios\n",
    "        p_sum = sum(p_values)\n",
    "        i_sum = sum(i_values)\n",
    "        d_sum = sum(d_values)\n",
    "        total = p_sum + i_sum + d_sum\n",
    "        \n",
    "        print(f\"Component contribution: P={p_sum/total*100:.1f}%, I={i_sum/total*100:.1f}%, D={d_sum/total*100:.1f}%\")\n",
    "        \n",
    "        # Standard stats\n",
    "        kl_values = [entry['kl'] for entry in pid_log]\n",
    "        alpha_values = [entry['alpha'] for entry in pid_log]\n",
    "        effective_alphas = [entry['effective_alpha'] for entry in pid_log]\n",
    "        entropy_values = [entry['entropy'] for entry in pid_log]\n",
    "        quality_values = [entry['content_quality'] for entry in pid_log]\n",
    "        \n",
    "        print(f\"KL divergence: min={min(kl_values):.4f}, avg={sum(kl_values)/len(kl_values):.4f}, max={max(kl_values):.4f}\")\n",
    "        print(f\"Entropy: min={min(entropy_values):.2f}, avg={sum(entropy_values)/len(entropy_values):.2f}, max={max(entropy_values):.2f}\")\n",
    "        print(f\"Alpha values: min={min(alpha_values):.4f}, avg={sum(alpha_values)/len(alpha_values):.4f}, max={max(alpha_values):.4f}\")\n",
    "        print(f\"Effective alphas: min={min(effective_alphas):.4f}, avg={sum(effective_alphas)/len(effective_alphas):.4f}, max={max(effective_alphas):.4f}\")\n",
    "        print(f\"Content quality: min={min(quality_values):.2f}, avg={sum(quality_values)/len(quality_values):.2f}, max={max(quality_values):.2f}\")\n",
    "\n",
    "    return generated_text, new_tokens\n"
   ]
  },
  {
   "cell_type": "code",
   "execution_count": null,
   "id": "6eb7a1bc-b806-4b1b-8b3d-883fd22cf98b",
   "metadata": {
    "scrolled": true
   },
   "outputs": [
    {
     "name": "stdout",
     "output_type": "stream",
     "text": [
      "\n",
      "• Running benchmark with duck eggs problem...\n",
      "\n",
      "Running baseline generation...\n",
      "Starting generation...\n",
      "Baseline generation complete: 723 new tokens generated\n",
      "\n",
      "Running RASPID generation with analytically tuned parameters...\n",
      "Analytically tuned parameters: KP=0.80, KI=0.01, KD=0.01\n",
      "Adjusted setpoints: KL=0.2000, ENT=1.00\n"
     ]
    },
    {
     "name": "stderr",
     "output_type": "stream",
     "text": [
      "RASPID generation:   0%|          | 5/2048 [00:00<00:44, 45.50it/s]"
     ]
    },
    {
     "name": "stdout",
     "output_type": "stream",
     "text": [
      "Logit stats: min=-12.12, max=14.04\n"
     ]
    },
    {
     "name": "stderr",
     "output_type": "stream",
     "text": [
      "RASPID generation:   3%|▎         | 60/2048 [00:01<00:44, 44.94it/s]"
     ]
    },
    {
     "name": "stdout",
     "output_type": "stream",
     "text": [
      "Logit stats: min=-10.36, max=28.71\n"
     ]
    },
    {
     "name": "stderr",
     "output_type": "stream",
     "text": [
      "RASPID generation:   4%|▍         | 85/2048 [00:01<00:43, 44.87it/s]"
     ]
    },
    {
     "name": "stdout",
     "output_type": "stream",
     "text": [
      "\n",
      "----- TRANSITIONING TO ACTIVE STEERING AFTER 80 TOKENS -----\n"
     ]
    },
    {
     "name": "stderr",
     "output_type": "stream",
     "text": [
      "RASPID generation:   5%|▌         | 110/2048 [00:02<00:43, 44.89it/s]"
     ]
    },
    {
     "name": "stdout",
     "output_type": "stream",
     "text": [
      "Logit stats: min=-11.11, max=26.00\n"
     ]
    },
    {
     "name": "stderr",
     "output_type": "stream",
     "text": [
      "RASPID generation:   8%|▊         | 160/2048 [00:03<00:42, 44.95it/s]"
     ]
    },
    {
     "name": "stdout",
     "output_type": "stream",
     "text": [
      "Logit stats: min=-7.62, max=25.94\n"
     ]
    },
    {
     "name": "stderr",
     "output_type": "stream",
     "text": [
      "RASPID generation:  10%|▉         | 200/2048 [00:04<00:41, 44.65it/s]"
     ]
    },
    {
     "name": "stdout",
     "output_type": "stream",
     "text": [
      "Step 192: Alpha=0.1766, Effective=0.0813\n",
      "Step 193: Alpha=0.1766, Effective=0.0813\n",
      "Step 194: Alpha=0.1766, Effective=0.0813\n",
      "Step 195: Alpha=0.1766, Effective=0.0813\n",
      "Step 196: Alpha=0.1766, Effective=0.0813\n",
      "Step 197: Alpha=0.1766, Effective=0.0813\n",
      "Step 198: Alpha=0.1766, Effective=0.0813\n",
      "Step 199: Alpha=0.1766, Effective=0.0813\n",
      "Step 200: Alpha=0.1766, Effective=0.0813\n"
     ]
    },
    {
     "name": "stderr",
     "output_type": "stream",
     "text": [
      "RASPID generation:  10%|█         | 205/2048 [00:04<00:41, 44.48it/s]"
     ]
    },
    {
     "name": "stdout",
     "output_type": "stream",
     "text": [
      "Logit stats: min=-6.55, max=22.80\n",
      "Step 201: Alpha=0.1766, Effective=0.0813\n",
      "Step 202: Alpha=0.1766, Effective=0.0813\n",
      "Step 203: Alpha=0.1766, Effective=0.0813\n",
      "Step 204: Alpha=0.1766, Effective=0.0813\n",
      "Step 205: Alpha=0.1766, Effective=0.0813\n",
      "Step 206: Alpha=0.1766, Effective=0.0813\n",
      "Step 207: Alpha=0.1766, Effective=0.0813\n",
      "Step 208: Alpha=0.1766, Effective=0.0813\n",
      "Step 209: Alpha=0.1766, Effective=0.0813\n"
     ]
    },
    {
     "name": "stderr",
     "output_type": "stream",
     "text": [
      "RASPID generation:  10%|█         | 215/2048 [00:04<00:41, 44.45it/s]"
     ]
    },
    {
     "name": "stdout",
     "output_type": "stream",
     "text": [
      "Step 210: Alpha=0.1766, Effective=0.0813\n",
      "Step 211: Alpha=0.1766, Effective=0.0813\n",
      "Step 212: Alpha=0.1766, Effective=0.0813\n",
      "Step 213: Alpha=0.1766, Effective=0.0813\n",
      "Step 214: Alpha=0.1766, Effective=0.0813\n",
      "Step 215: Alpha=0.1766, Effective=0.0813\n",
      "Step 216: Alpha=0.1766, Effective=0.0813\n",
      "Step 217: Alpha=0.1766, Effective=0.0813\n",
      "Step 218: Alpha=0.1766, Effective=0.0813\n"
     ]
    },
    {
     "name": "stderr",
     "output_type": "stream",
     "text": [
      "RASPID generation:  11%|█         | 225/2048 [00:05<00:41, 44.37it/s]"
     ]
    },
    {
     "name": "stdout",
     "output_type": "stream",
     "text": [
      "Step 219: Alpha=0.1766, Effective=0.0813\n",
      "Step 220: Alpha=0.1766, Effective=0.0813\n",
      "Step 221: Alpha=0.1766, Effective=0.0813\n",
      "Step 222: Alpha=0.1766, Effective=0.0813\n",
      "Step 223: Alpha=0.1766, Effective=0.0813\n",
      "Step 224: Alpha=0.1766, Effective=0.0813\n",
      "Step 225: Alpha=0.1766, Effective=0.0813\n",
      "Step 226: Alpha=0.1766, Effective=0.0813\n",
      "Step 227: Alpha=0.1766, Effective=0.0813\n"
     ]
    },
    {
     "name": "stderr",
     "output_type": "stream",
     "text": [
      "RASPID generation:  11%|█▏        | 235/2048 [00:05<00:40, 44.31it/s]"
     ]
    },
    {
     "name": "stdout",
     "output_type": "stream",
     "text": [
      "Step 228: Alpha=0.1766, Effective=0.0813\n",
      "Step 229: Alpha=0.1766, Effective=0.0813\n",
      "Step 230: Alpha=0.1766, Effective=0.0813\n",
      "Step 231: Alpha=0.1766, Effective=0.0813\n",
      "Step 232: Alpha=0.1766, Effective=0.0813\n",
      "Step 233: Alpha=0.1766, Effective=0.0813\n",
      "Step 234: Alpha=0.1766, Effective=0.0813\n",
      "Step 235: Alpha=0.1766, Effective=0.0813\n",
      "Step 236: Alpha=0.1766, Effective=0.0813\n"
     ]
    },
    {
     "name": "stderr",
     "output_type": "stream",
     "text": [
      "RASPID generation:  12%|█▏        | 245/2048 [00:05<00:40, 44.28it/s]"
     ]
    },
    {
     "name": "stdout",
     "output_type": "stream",
     "text": [
      "Step 237: Alpha=0.1766, Effective=0.0813\n",
      "Step 238: Alpha=0.1766, Effective=0.0813\n",
      "Step 239: Alpha=0.1766, Effective=0.0813\n",
      "Step 240: Alpha=0.1766, Effective=0.0813\n",
      "Step 241: Alpha=0.1766, Effective=0.0813\n",
      "Step 242: Alpha=0.1766, Effective=0.0813\n",
      "Step 243: Alpha=0.1766, Effective=0.0813\n",
      "Step 244: Alpha=0.1766, Effective=0.0813\n",
      "Step 245: Alpha=0.1766, Effective=0.0813\n"
     ]
    },
    {
     "name": "stderr",
     "output_type": "stream",
     "text": [
      "RASPID generation:  12%|█▏        | 250/2048 [00:05<00:40, 44.22it/s]"
     ]
    },
    {
     "name": "stdout",
     "output_type": "stream",
     "text": [
      "Step 246: Alpha=0.1766, Effective=0.0813\n",
      "Step 247: Alpha=0.1766, Effective=0.0813\n",
      "Step 248: Alpha=0.1766, Effective=0.0813\n",
      "Step 249: Alpha=0.1766, Effective=0.0813\n",
      "Step 250: Alpha=0.1766, Effective=0.0813\n",
      "Logit stats: min=-5.63, max=25.09\n",
      "Step 251: Alpha=0.1766, Effective=0.0813\n",
      "Step 252: Alpha=0.1766, Effective=0.0813\n",
      "Step 253: Alpha=0.1766, Effective=0.0813\n",
      "Step 254: Alpha=0.1766, Effective=0.0813\n"
     ]
    },
    {
     "name": "stderr",
     "output_type": "stream",
     "text": [
      "RASPID generation:  13%|█▎        | 260/2048 [00:05<00:40, 44.19it/s]"
     ]
    },
    {
     "name": "stdout",
     "output_type": "stream",
     "text": [
      "Step 255: Alpha=0.1766, Effective=0.0813\n",
      "Step 256: Alpha=0.1003, Effective=0.0478\n",
      "Step 257: Alpha=0.1003, Effective=0.0478\n",
      "Step 258: Alpha=0.1003, Effective=0.0478\n",
      "Step 259: Alpha=0.1003, Effective=0.0478\n",
      "Step 260: Alpha=0.1003, Effective=0.0478\n",
      "Step 261: Alpha=0.1003, Effective=0.0478\n",
      "Step 262: Alpha=0.1003, Effective=0.0478\n",
      "Step 263: Alpha=0.1003, Effective=0.0478\n"
     ]
    },
    {
     "name": "stderr",
     "output_type": "stream",
     "text": [
      "RASPID generation:  13%|█▎        | 270/2048 [00:06<00:40, 44.01it/s]"
     ]
    },
    {
     "name": "stdout",
     "output_type": "stream",
     "text": [
      "Step 264: Alpha=0.1003, Effective=0.0478\n",
      "Step 265: Alpha=0.1003, Effective=0.0478\n",
      "Step 266: Alpha=0.1003, Effective=0.0478\n",
      "Step 267: Alpha=0.1003, Effective=0.0478\n",
      "Step 268: Alpha=0.1003, Effective=0.0478\n",
      "Step 269: Alpha=0.1003, Effective=0.0478\n",
      "Step 270: Alpha=0.1003, Effective=0.0478\n",
      "Step 271: Alpha=0.1003, Effective=0.0478\n",
      "Step 272: Alpha=0.1003, Effective=0.0478\n"
     ]
    },
    {
     "name": "stderr",
     "output_type": "stream",
     "text": [
      "RASPID generation:  14%|█▎        | 280/2048 [00:06<00:40, 44.09it/s]"
     ]
    },
    {
     "name": "stdout",
     "output_type": "stream",
     "text": [
      "Step 273: Alpha=0.1003, Effective=0.0478\n",
      "Step 274: Alpha=0.1003, Effective=0.0478\n",
      "Step 275: Alpha=0.1003, Effective=0.0478\n",
      "Step 276: Alpha=0.1003, Effective=0.0478\n",
      "Step 277: Alpha=0.1003, Effective=0.0478\n",
      "Step 278: Alpha=0.1003, Effective=0.0478\n",
      "Step 279: Alpha=0.1003, Effective=0.0478\n",
      "Step 280: Alpha=0.1003, Effective=0.0478\n",
      "Step 281: Alpha=0.1003, Effective=0.0478\n"
     ]
    },
    {
     "name": "stderr",
     "output_type": "stream",
     "text": [
      "RASPID generation:  14%|█▍        | 290/2048 [00:06<00:39, 44.14it/s]"
     ]
    },
    {
     "name": "stdout",
     "output_type": "stream",
     "text": [
      "Step 282: Alpha=0.1003, Effective=0.0478\n",
      "Step 283: Alpha=0.1003, Effective=0.0478\n",
      "Step 284: Alpha=0.1003, Effective=0.0478\n",
      "Step 285: Alpha=0.1003, Effective=0.0478\n",
      "Step 286: Alpha=0.1003, Effective=0.0478\n",
      "Step 287: Alpha=0.1003, Effective=0.0478\n",
      "Step 288: Alpha=0.1003, Effective=0.0478\n",
      "Step 289: Alpha=0.1003, Effective=0.0478\n",
      "Step 290: Alpha=0.1003, Effective=0.0478\n"
     ]
    },
    {
     "name": "stderr",
     "output_type": "stream",
     "text": [
      "RASPID generation:  14%|█▍        | 295/2048 [00:06<00:39, 44.10it/s]"
     ]
    },
    {
     "name": "stdout",
     "output_type": "stream",
     "text": [
      "Step 291: Alpha=0.1003, Effective=0.0478\n",
      "Step 292: Alpha=0.1003, Effective=0.0478\n",
      "Step 293: Alpha=0.1003, Effective=0.0478\n",
      "Step 294: Alpha=0.1003, Effective=0.0478\n",
      "Step 295: Alpha=0.1003, Effective=0.0478\n",
      "Step 296: Alpha=0.1003, Effective=0.0478\n",
      "Step 297: Alpha=0.1003, Effective=0.0478\n",
      "Step 298: Alpha=0.1003, Effective=0.0478\n",
      "Step 299: Alpha=0.1003, Effective=0.0478\n"
     ]
    },
    {
     "name": "stderr",
     "output_type": "stream",
     "text": [
      "RASPID generation:  15%|█▍        | 305/2048 [00:06<00:39, 44.09it/s]"
     ]
    },
    {
     "name": "stdout",
     "output_type": "stream",
     "text": [
      "Step 300: Alpha=0.1003, Effective=0.0478\n",
      "Logit stats: min=-9.90, max=23.56\n",
      "Step 301: Alpha=0.1003, Effective=0.0478\n",
      "Step 302: Alpha=0.1003, Effective=0.0478\n",
      "Step 303: Alpha=0.1003, Effective=0.0478\n",
      "Step 304: Alpha=0.1003, Effective=0.0478\n",
      "Step 305: Alpha=0.1003, Effective=0.0478\n",
      "Step 306: Alpha=0.1003, Effective=0.0478\n",
      "Step 307: Alpha=0.1003, Effective=0.0478\n",
      "Step 308: Alpha=0.1003, Effective=0.0478\n"
     ]
    },
    {
     "name": "stderr",
     "output_type": "stream",
     "text": [
      "RASPID generation:  15%|█▌        | 315/2048 [00:07<00:39, 44.14it/s]"
     ]
    },
    {
     "name": "stdout",
     "output_type": "stream",
     "text": [
      "Step 309: Alpha=0.1003, Effective=0.0478\n",
      "Step 310: Alpha=0.1003, Effective=0.0478\n",
      "Step 311: Alpha=0.1003, Effective=0.0478\n",
      "Step 312: Alpha=0.1003, Effective=0.0478\n",
      "Step 313: Alpha=0.1003, Effective=0.0478\n",
      "Step 314: Alpha=0.1003, Effective=0.0478\n",
      "Step 315: Alpha=0.1003, Effective=0.0478\n",
      "Step 316: Alpha=0.1003, Effective=0.0478\n",
      "Step 317: Alpha=0.1003, Effective=0.0478\n"
     ]
    },
    {
     "name": "stderr",
     "output_type": "stream",
     "text": [
      "RASPID generation:  16%|█▌        | 325/2048 [00:07<00:39, 44.16it/s]"
     ]
    },
    {
     "name": "stdout",
     "output_type": "stream",
     "text": [
      "Step 318: Alpha=0.1003, Effective=0.0478\n",
      "Step 319: Alpha=0.1003, Effective=0.0478\n",
      "Step 320: Alpha=0.9433, Effective=0.3322\n",
      "Step 321: Alpha=0.9433, Effective=0.3322\n",
      "Step 322: Alpha=0.9433, Effective=0.3322\n",
      "Step 323: Alpha=0.9433, Effective=0.3322\n",
      "Step 324: Alpha=0.9433, Effective=0.3322\n",
      "Step 325: Alpha=0.9433, Effective=0.3322\n",
      "Step 326: Alpha=0.9433, Effective=0.3322\n"
     ]
    },
    {
     "name": "stderr",
     "output_type": "stream",
     "text": [
      "RASPID generation:  16%|█▋        | 335/2048 [00:07<00:38, 44.16it/s]"
     ]
    },
    {
     "name": "stdout",
     "output_type": "stream",
     "text": [
      "Step 327: Alpha=0.9433, Effective=0.3322\n",
      "Step 328: Alpha=0.9433, Effective=0.3322\n",
      "Step 329: Alpha=0.9433, Effective=0.3322\n",
      "Step 330: Alpha=0.9433, Effective=0.3322\n",
      "Step 331: Alpha=0.9433, Effective=0.3322\n",
      "Step 332: Alpha=0.9433, Effective=0.3322\n",
      "Step 333: Alpha=0.9433, Effective=0.3322\n",
      "Step 334: Alpha=0.9433, Effective=0.3322\n",
      "Step 335: Alpha=0.9433, Effective=0.3322\n"
     ]
    },
    {
     "name": "stderr",
     "output_type": "stream",
     "text": [
      "RASPID generation:  17%|█▋        | 340/2048 [00:07<00:38, 44.06it/s]"
     ]
    },
    {
     "name": "stdout",
     "output_type": "stream",
     "text": [
      "Step 336: Alpha=0.9433, Effective=0.3322\n",
      "Step 337: Alpha=0.9433, Effective=0.3322\n",
      "Step 338: Alpha=0.9433, Effective=0.3322\n",
      "Step 339: Alpha=0.9433, Effective=0.3322\n",
      "Step 340: Alpha=0.9433, Effective=0.3322\n",
      "Step 341: Alpha=0.9433, Effective=0.3322\n",
      "Step 342: Alpha=0.9433, Effective=0.3322\n",
      "Step 343: Alpha=0.9433, Effective=0.3322\n",
      "Step 344: Alpha=0.9433, Effective=0.3322\n"
     ]
    },
    {
     "name": "stderr",
     "output_type": "stream",
     "text": [
      "RASPID generation:  17%|█▋        | 350/2048 [00:07<00:38, 44.01it/s]"
     ]
    },
    {
     "name": "stdout",
     "output_type": "stream",
     "text": [
      "Step 345: Alpha=0.9433, Effective=0.3322\n",
      "Step 346: Alpha=0.9433, Effective=0.3322\n",
      "Step 347: Alpha=0.9433, Effective=0.3322\n",
      "Step 348: Alpha=0.9433, Effective=0.3322\n",
      "Step 349: Alpha=0.9433, Effective=0.3322\n",
      "Step 350: Alpha=0.9433, Effective=0.3322\n",
      "Logit stats: min=-10.44, max=29.69\n",
      "Step 351: Alpha=0.9433, Effective=0.3322\n",
      "Step 352: Alpha=0.9433, Effective=0.3322\n",
      "Step 353: Alpha=0.9433, Effective=0.3322\n"
     ]
    },
    {
     "name": "stderr",
     "output_type": "stream",
     "text": [
      "RASPID generation:  18%|█▊        | 360/2048 [00:08<00:38, 44.11it/s]"
     ]
    },
    {
     "name": "stdout",
     "output_type": "stream",
     "text": [
      "Step 354: Alpha=0.9433, Effective=0.3322\n",
      "Step 355: Alpha=0.9433, Effective=0.3322\n",
      "Step 356: Alpha=0.9433, Effective=0.3322\n",
      "Step 357: Alpha=0.9433, Effective=0.3322\n",
      "Step 358: Alpha=0.9433, Effective=0.3322\n",
      "Step 359: Alpha=0.9433, Effective=0.3322\n",
      "Step 360: Alpha=0.9433, Effective=0.3322\n",
      "Step 361: Alpha=0.9433, Effective=0.3322\n",
      "Step 362: Alpha=0.9433, Effective=0.3322\n"
     ]
    },
    {
     "name": "stderr",
     "output_type": "stream",
     "text": [
      "RASPID generation:  18%|█▊        | 370/2048 [00:08<00:37, 44.17it/s]"
     ]
    },
    {
     "name": "stdout",
     "output_type": "stream",
     "text": [
      "Step 363: Alpha=0.9433, Effective=0.3322\n",
      "Step 364: Alpha=0.9433, Effective=0.3322\n",
      "Step 365: Alpha=0.9433, Effective=0.3322\n",
      "Step 366: Alpha=0.9433, Effective=0.3322\n",
      "Step 367: Alpha=0.9433, Effective=0.3322\n",
      "Step 368: Alpha=0.9433, Effective=0.3322\n",
      "Step 369: Alpha=0.9433, Effective=0.3322\n",
      "Step 370: Alpha=0.9433, Effective=0.3322\n",
      "Step 371: Alpha=0.9433, Effective=0.3322\n"
     ]
    },
    {
     "name": "stderr",
     "output_type": "stream",
     "text": [
      "RASPID generation:  19%|█▊        | 380/2048 [00:08<00:37, 44.20it/s]"
     ]
    },
    {
     "name": "stdout",
     "output_type": "stream",
     "text": [
      "Step 372: Alpha=0.9433, Effective=0.3322\n",
      "Step 373: Alpha=0.9433, Effective=0.3322\n",
      "Step 374: Alpha=0.9433, Effective=0.3322\n",
      "Step 375: Alpha=0.9433, Effective=0.3322\n",
      "Step 376: Alpha=0.9433, Effective=0.3322\n",
      "Step 377: Alpha=0.9433, Effective=0.3322\n",
      "Step 378: Alpha=0.9433, Effective=0.3322\n",
      "Step 379: Alpha=0.9433, Effective=0.3322\n",
      "Step 380: Alpha=0.9433, Effective=0.3322\n"
     ]
    },
    {
     "name": "stderr",
     "output_type": "stream",
     "text": [
      "RASPID generation:  19%|█▉        | 385/2048 [00:08<00:37, 44.07it/s]"
     ]
    },
    {
     "name": "stdout",
     "output_type": "stream",
     "text": [
      "Step 381: Alpha=0.9433, Effective=0.3322\n",
      "Step 382: Alpha=0.9433, Effective=0.3322\n",
      "Step 383: Alpha=0.9433, Effective=0.3322\n",
      "Step 384: Alpha=1.0000, Effective=0.3466\n",
      "Step 385: Alpha=1.0000, Effective=0.3466\n",
      "Step 386: Alpha=1.0000, Effective=0.3466\n",
      "Step 387: Alpha=1.0000, Effective=0.3466\n",
      "Step 388: Alpha=1.0000, Effective=0.3466\n",
      "Step 389: Alpha=1.0000, Effective=0.3466\n"
     ]
    },
    {
     "name": "stderr",
     "output_type": "stream",
     "text": [
      "RASPID generation:  19%|█▉        | 395/2048 [00:08<00:37, 44.13it/s]"
     ]
    },
    {
     "name": "stdout",
     "output_type": "stream",
     "text": [
      "Step 390: Alpha=1.0000, Effective=0.3466\n",
      "Step 391: Alpha=1.0000, Effective=0.3466\n",
      "Step 392: Alpha=1.0000, Effective=0.3466\n",
      "Step 393: Alpha=1.0000, Effective=0.3466\n",
      "Step 394: Alpha=1.0000, Effective=0.3466\n",
      "Step 395: Alpha=1.0000, Effective=0.3466\n",
      "Step 396: Alpha=1.0000, Effective=0.3466\n",
      "Step 397: Alpha=1.0000, Effective=0.3466\n",
      "Step 398: Alpha=1.0000, Effective=0.3466\n"
     ]
    },
    {
     "name": "stderr",
     "output_type": "stream",
     "text": [
      "RASPID generation:  20%|█▉        | 405/2048 [00:09<00:37, 44.17it/s]"
     ]
    },
    {
     "name": "stdout",
     "output_type": "stream",
     "text": [
      "Step 399: Alpha=1.0000, Effective=0.3466\n",
      "Step 400: Alpha=1.0000, Effective=0.3466\n",
      "Logit stats: min=-7.26, max=30.10\n",
      "Step 401: Alpha=1.0000, Effective=0.3466\n",
      "Step 402: Alpha=1.0000, Effective=0.3466\n",
      "Step 403: Alpha=1.0000, Effective=0.3466\n",
      "Step 404: Alpha=1.0000, Effective=0.3466\n",
      "Step 405: Alpha=1.0000, Effective=0.3466\n",
      "Step 406: Alpha=1.0000, Effective=0.3466\n",
      "Step 407: Alpha=1.0000, Effective=0.3466\n"
     ]
    },
    {
     "name": "stderr",
     "output_type": "stream",
     "text": [
      "RASPID generation:  20%|██        | 415/2048 [00:09<00:36, 44.21it/s]"
     ]
    },
    {
     "name": "stdout",
     "output_type": "stream",
     "text": [
      "Step 408: Alpha=1.0000, Effective=0.3466\n",
      "Step 409: Alpha=1.0000, Effective=0.3466\n",
      "Step 410: Alpha=1.0000, Effective=0.3466\n",
      "Step 411: Alpha=1.0000, Effective=0.3466\n",
      "Step 412: Alpha=1.0000, Effective=0.3466\n",
      "Step 413: Alpha=1.0000, Effective=0.3466\n",
      "Step 414: Alpha=1.0000, Effective=0.3466\n",
      "Step 415: Alpha=1.0000, Effective=0.3466\n",
      "Step 416: Alpha=1.0000, Effective=0.3466\n"
     ]
    },
    {
     "name": "stderr",
     "output_type": "stream",
     "text": [
      "RASPID generation:  21%|██        | 425/2048 [00:09<00:36, 44.22it/s]"
     ]
    },
    {
     "name": "stdout",
     "output_type": "stream",
     "text": [
      "Step 417: Alpha=1.0000, Effective=0.3466\n",
      "Step 418: Alpha=1.0000, Effective=0.3466\n",
      "Step 419: Alpha=1.0000, Effective=0.3466\n",
      "Step 420: Alpha=1.0000, Effective=0.3466\n",
      "Step 421: Alpha=1.0000, Effective=0.3466\n",
      "Step 422: Alpha=1.0000, Effective=0.3466\n",
      "Step 423: Alpha=1.0000, Effective=0.3466\n",
      "Step 424: Alpha=1.0000, Effective=0.3466\n",
      "Step 425: Alpha=1.0000, Effective=0.3466\n"
     ]
    },
    {
     "name": "stderr",
     "output_type": "stream",
     "text": [
      "RASPID generation:  21%|██        | 430/2048 [00:09<00:36, 44.18it/s]"
     ]
    },
    {
     "name": "stdout",
     "output_type": "stream",
     "text": [
      "Step 426: Alpha=1.0000, Effective=0.3466\n",
      "Step 427: Alpha=1.0000, Effective=0.3466\n",
      "Step 428: Alpha=1.0000, Effective=0.3466\n",
      "Step 429: Alpha=1.0000, Effective=0.3466\n",
      "Step 430: Alpha=1.0000, Effective=0.3466\n",
      "Step 431: Alpha=1.0000, Effective=0.3466\n",
      "Step 432: Alpha=1.0000, Effective=0.3466\n",
      "Step 433: Alpha=1.0000, Effective=0.3466\n",
      "Step 434: Alpha=1.0000, Effective=0.3466\n"
     ]
    },
    {
     "name": "stderr",
     "output_type": "stream",
     "text": [
      "RASPID generation:  21%|██▏       | 440/2048 [00:09<00:36, 44.20it/s]"
     ]
    },
    {
     "name": "stdout",
     "output_type": "stream",
     "text": [
      "Step 435: Alpha=1.0000, Effective=0.3466\n",
      "Step 436: Alpha=1.0000, Effective=0.3466\n",
      "Step 437: Alpha=1.0000, Effective=0.3466\n",
      "Step 438: Alpha=1.0000, Effective=0.3466\n",
      "Step 439: Alpha=1.0000, Effective=0.3466\n",
      "Step 440: Alpha=1.0000, Effective=0.3466\n",
      "Step 441: Alpha=1.0000, Effective=0.3466\n",
      "Step 442: Alpha=1.0000, Effective=0.3466\n",
      "Step 443: Alpha=1.0000, Effective=0.3466\n"
     ]
    },
    {
     "name": "stderr",
     "output_type": "stream",
     "text": [
      "RASPID generation:  22%|██▏       | 450/2048 [00:10<00:36, 44.21it/s]"
     ]
    },
    {
     "name": "stdout",
     "output_type": "stream",
     "text": [
      "Step 444: Alpha=1.0000, Effective=0.3466\n",
      "Step 445: Alpha=1.0000, Effective=0.3466\n",
      "Step 446: Alpha=1.0000, Effective=0.3466\n",
      "Step 447: Alpha=1.0000, Effective=0.3466\n",
      "Logit stats: min=-8.42, max=26.52\n"
     ]
    },
    {
     "name": "stderr",
     "output_type": "stream",
     "text": [
      "RASPID generation:  25%|██▍       | 510/2048 [00:11<00:34, 44.88it/s]"
     ]
    },
    {
     "name": "stdout",
     "output_type": "stream",
     "text": [
      "Logit stats: min=-6.72, max=25.90\n"
     ]
    },
    {
     "name": "stderr",
     "output_type": "stream",
     "text": [
      "RASPID generation:  25%|██▌       | 520/2048 [00:11<00:34, 44.40it/s]"
     ]
    },
    {
     "name": "stdout",
     "output_type": "stream",
     "text": [
      "Step 512: Alpha=0.1834, Effective=0.0842\n",
      "Step 513: Alpha=0.1834, Effective=0.0842\n",
      "Step 514: Alpha=0.1834, Effective=0.0842\n",
      "Step 515: Alpha=0.1834, Effective=0.0842\n",
      "Step 516: Alpha=0.1834, Effective=0.0842\n",
      "Step 517: Alpha=0.1834, Effective=0.0842\n",
      "Step 518: Alpha=0.1834, Effective=0.0842\n",
      "Step 519: Alpha=0.1834, Effective=0.0842\n",
      "Step 520: Alpha=0.1834, Effective=0.0842\n"
     ]
    },
    {
     "name": "stderr",
     "output_type": "stream",
     "text": [
      "RASPID generation:  26%|██▌       | 525/2048 [00:11<00:34, 44.26it/s]"
     ]
    },
    {
     "name": "stdout",
     "output_type": "stream",
     "text": [
      "Step 521: Alpha=0.1834, Effective=0.0842\n",
      "Step 522: Alpha=0.1834, Effective=0.0842\n",
      "Step 523: Alpha=0.1834, Effective=0.0842\n",
      "Step 524: Alpha=0.1834, Effective=0.0842\n",
      "Step 525: Alpha=0.1834, Effective=0.0842\n",
      "Step 526: Alpha=0.1834, Effective=0.0842\n",
      "Step 527: Alpha=0.1834, Effective=0.0842\n",
      "Step 528: Alpha=0.1834, Effective=0.0842\n",
      "Step 529: Alpha=0.1834, Effective=0.0842\n"
     ]
    },
    {
     "name": "stderr",
     "output_type": "stream",
     "text": [
      "RASPID generation:  26%|██▌       | 535/2048 [00:12<00:34, 44.20it/s]"
     ]
    },
    {
     "name": "stdout",
     "output_type": "stream",
     "text": [
      "Step 530: Alpha=0.1834, Effective=0.0842\n",
      "Step 531: Alpha=0.1834, Effective=0.0842\n",
      "Step 532: Alpha=0.1834, Effective=0.0842\n",
      "Step 533: Alpha=0.1834, Effective=0.0842\n",
      "Step 534: Alpha=0.1834, Effective=0.0842\n",
      "Step 535: Alpha=0.1834, Effective=0.0842\n",
      "Step 536: Alpha=0.1834, Effective=0.0842\n",
      "Step 537: Alpha=0.1834, Effective=0.0842\n",
      "Step 538: Alpha=0.1834, Effective=0.0842\n"
     ]
    },
    {
     "name": "stderr",
     "output_type": "stream",
     "text": [
      "RASPID generation:  27%|██▋       | 545/2048 [00:12<00:34, 44.17it/s]"
     ]
    },
    {
     "name": "stdout",
     "output_type": "stream",
     "text": [
      "Step 539: Alpha=0.1834, Effective=0.0842\n",
      "Step 540: Alpha=0.1834, Effective=0.0842\n",
      "Step 541: Alpha=0.1834, Effective=0.0842\n",
      "Step 542: Alpha=0.1834, Effective=0.0842\n",
      "Step 543: Alpha=0.1834, Effective=0.0842\n",
      "Step 544: Alpha=0.1834, Effective=0.0842\n",
      "Step 545: Alpha=0.1834, Effective=0.0842\n",
      "Step 546: Alpha=0.1834, Effective=0.0842\n",
      "Step 547: Alpha=0.1834, Effective=0.0842\n"
     ]
    },
    {
     "name": "stderr",
     "output_type": "stream",
     "text": [
      "RASPID generation:  27%|██▋       | 555/2048 [00:12<00:33, 44.17it/s]"
     ]
    },
    {
     "name": "stdout",
     "output_type": "stream",
     "text": [
      "Step 548: Alpha=0.1834, Effective=0.0842\n",
      "Step 549: Alpha=0.1834, Effective=0.0842\n",
      "Step 550: Alpha=0.1834, Effective=0.0842\n",
      "Logit stats: min=-6.52, max=30.49\n",
      "Step 551: Alpha=0.1834, Effective=0.0842\n",
      "Step 552: Alpha=0.1834, Effective=0.0842\n",
      "Step 553: Alpha=0.1834, Effective=0.0842\n",
      "Step 554: Alpha=0.1834, Effective=0.0842\n",
      "Step 555: Alpha=0.1834, Effective=0.0842\n",
      "Step 556: Alpha=0.1834, Effective=0.0842\n"
     ]
    },
    {
     "name": "stderr",
     "output_type": "stream",
     "text": [
      "RASPID generation:  28%|██▊       | 565/2048 [00:12<00:33, 44.04it/s]"
     ]
    },
    {
     "name": "stdout",
     "output_type": "stream",
     "text": [
      "Step 557: Alpha=0.1834, Effective=0.0842\n",
      "Step 558: Alpha=0.1834, Effective=0.0842\n",
      "Step 559: Alpha=0.1834, Effective=0.0842\n",
      "Step 560: Alpha=0.1834, Effective=0.0842\n",
      "Step 561: Alpha=0.1834, Effective=0.0842\n",
      "Step 562: Alpha=0.1834, Effective=0.0842\n",
      "Step 563: Alpha=0.1834, Effective=0.0842\n",
      "Step 564: Alpha=0.1834, Effective=0.0842\n",
      "Step 565: Alpha=0.1834, Effective=0.0842\n"
     ]
    },
    {
     "name": "stderr",
     "output_type": "stream",
     "text": [
      "RASPID generation:  28%|██▊       | 570/2048 [00:12<00:33, 43.99it/s]"
     ]
    },
    {
     "name": "stdout",
     "output_type": "stream",
     "text": [
      "Step 566: Alpha=0.1834, Effective=0.0842\n",
      "Step 567: Alpha=0.1834, Effective=0.0842\n",
      "Step 568: Alpha=0.1834, Effective=0.0842\n",
      "Step 569: Alpha=0.1834, Effective=0.0842\n",
      "Step 570: Alpha=0.1834, Effective=0.0842\n",
      "Step 571: Alpha=0.1834, Effective=0.0842\n",
      "Step 572: Alpha=0.1834, Effective=0.0842\n",
      "Step 573: Alpha=0.1834, Effective=0.0842\n",
      "Step 574: Alpha=0.1834, Effective=0.0842\n"
     ]
    },
    {
     "name": "stderr",
     "output_type": "stream",
     "text": [
      "RASPID generation:  28%|██▊       | 580/2048 [00:13<00:33, 43.99it/s]"
     ]
    },
    {
     "name": "stdout",
     "output_type": "stream",
     "text": [
      "Step 575: Alpha=0.1834, Effective=0.0842\n",
      "Step 576: Alpha=0.9956, Effective=0.3455\n",
      "Step 577: Alpha=0.9956, Effective=0.3455\n",
      "Step 578: Alpha=0.9956, Effective=0.3455\n",
      "Step 579: Alpha=0.9956, Effective=0.3455\n",
      "Step 580: Alpha=0.9956, Effective=0.3455\n",
      "Step 581: Alpha=0.9956, Effective=0.3455\n",
      "Step 582: Alpha=0.9956, Effective=0.3455\n",
      "Step 583: Alpha=0.9956, Effective=0.3455\n"
     ]
    },
    {
     "name": "stderr",
     "output_type": "stream",
     "text": [
      "RASPID generation:  29%|██▉       | 590/2048 [00:13<00:33, 44.08it/s]"
     ]
    },
    {
     "name": "stdout",
     "output_type": "stream",
     "text": [
      "Step 584: Alpha=0.9956, Effective=0.3455\n",
      "Step 585: Alpha=0.9956, Effective=0.3455\n",
      "Step 586: Alpha=0.9956, Effective=0.3455\n",
      "Step 587: Alpha=0.9956, Effective=0.3455\n",
      "Step 588: Alpha=0.9956, Effective=0.3455\n",
      "Step 589: Alpha=0.9956, Effective=0.3455\n",
      "Step 590: Alpha=0.9956, Effective=0.3455\n",
      "Step 591: Alpha=0.9956, Effective=0.3455\n",
      "Step 592: Alpha=0.9956, Effective=0.3455\n"
     ]
    },
    {
     "name": "stderr",
     "output_type": "stream",
     "text": [
      "RASPID generation:  29%|██▉       | 600/2048 [00:13<00:32, 44.13it/s]"
     ]
    },
    {
     "name": "stdout",
     "output_type": "stream",
     "text": [
      "Step 593: Alpha=0.9956, Effective=0.3455\n",
      "Step 594: Alpha=0.9956, Effective=0.3455\n",
      "Step 595: Alpha=0.9956, Effective=0.3455\n",
      "Step 596: Alpha=0.9956, Effective=0.3455\n",
      "Step 597: Alpha=0.9956, Effective=0.3455\n",
      "Step 598: Alpha=0.9956, Effective=0.3455\n",
      "Step 599: Alpha=0.9956, Effective=0.3455\n",
      "Step 600: Alpha=0.9956, Effective=0.3455\n",
      "Logit stats: min=-10.38, max=30.50\n",
      "Step 601: Alpha=0.9956, Effective=0.3455\n"
     ]
    },
    {
     "name": "stderr",
     "output_type": "stream",
     "text": [
      "RASPID generation:  30%|██▉       | 610/2048 [00:13<00:32, 44.13it/s]"
     ]
    },
    {
     "name": "stdout",
     "output_type": "stream",
     "text": [
      "Step 602: Alpha=0.9956, Effective=0.3455\n",
      "Step 603: Alpha=0.9956, Effective=0.3455\n",
      "Step 604: Alpha=0.9956, Effective=0.3455\n",
      "Step 605: Alpha=0.9956, Effective=0.3455\n",
      "Step 606: Alpha=0.9956, Effective=0.3455\n",
      "Step 607: Alpha=0.9956, Effective=0.3455\n",
      "Step 608: Alpha=0.9956, Effective=0.3455\n",
      "Step 609: Alpha=0.9956, Effective=0.3455\n",
      "Step 610: Alpha=0.9956, Effective=0.3455\n"
     ]
    },
    {
     "name": "stderr",
     "output_type": "stream",
     "text": [
      "RASPID generation:  30%|███       | 615/2048 [00:13<00:32, 44.10it/s]"
     ]
    },
    {
     "name": "stdout",
     "output_type": "stream",
     "text": [
      "Step 611: Alpha=0.9956, Effective=0.3455\n",
      "Step 612: Alpha=0.9956, Effective=0.3455\n",
      "Step 613: Alpha=0.9956, Effective=0.3455\n",
      "Step 614: Alpha=0.9956, Effective=0.3455\n",
      "Step 615: Alpha=0.9956, Effective=0.3455\n",
      "Step 616: Alpha=0.9956, Effective=0.3455\n",
      "Step 617: Alpha=0.9956, Effective=0.3455\n",
      "Step 618: Alpha=0.9956, Effective=0.3455\n",
      "Step 619: Alpha=0.9956, Effective=0.3455\n"
     ]
    },
    {
     "name": "stderr",
     "output_type": "stream",
     "text": [
      "RASPID generation:  31%|███       | 625/2048 [00:14<00:32, 44.16it/s]"
     ]
    },
    {
     "name": "stdout",
     "output_type": "stream",
     "text": [
      "Step 620: Alpha=0.9956, Effective=0.3455\n",
      "Step 621: Alpha=0.9956, Effective=0.3455\n",
      "Step 622: Alpha=0.9956, Effective=0.3455\n",
      "Step 623: Alpha=0.9956, Effective=0.3455\n",
      "Step 624: Alpha=0.9956, Effective=0.3455\n",
      "Step 625: Alpha=0.9956, Effective=0.3455\n",
      "Step 626: Alpha=0.9956, Effective=0.3455\n",
      "Step 627: Alpha=0.9956, Effective=0.3455\n",
      "Step 628: Alpha=0.9956, Effective=0.3455\n"
     ]
    },
    {
     "name": "stderr",
     "output_type": "stream",
     "text": [
      "RASPID generation:  31%|███       | 635/2048 [00:14<00:31, 44.23it/s]"
     ]
    },
    {
     "name": "stdout",
     "output_type": "stream",
     "text": [
      "Step 629: Alpha=0.9956, Effective=0.3455\n",
      "Step 630: Alpha=0.9956, Effective=0.3455\n",
      "Step 631: Alpha=0.9956, Effective=0.3455\n",
      "Step 632: Alpha=0.9956, Effective=0.3455\n",
      "Step 633: Alpha=0.9956, Effective=0.3455\n",
      "Step 634: Alpha=0.9956, Effective=0.3455\n",
      "Step 635: Alpha=0.9956, Effective=0.3455\n",
      "Step 636: Alpha=0.9956, Effective=0.3455\n",
      "Step 637: Alpha=0.9956, Effective=0.3455\n"
     ]
    },
    {
     "name": "stderr",
     "output_type": "stream",
     "text": [
      "RASPID generation:  31%|███▏      | 645/2048 [00:14<00:31, 44.19it/s]"
     ]
    },
    {
     "name": "stdout",
     "output_type": "stream",
     "text": [
      "Step 638: Alpha=0.9956, Effective=0.3455\n",
      "Step 639: Alpha=0.9956, Effective=0.3455\n",
      "Step 640: Alpha=0.2801, Effective=0.1235\n",
      "Step 641: Alpha=0.2801, Effective=0.1235\n",
      "Step 642: Alpha=0.2801, Effective=0.1235\n",
      "Step 643: Alpha=0.2801, Effective=0.1235\n",
      "Step 644: Alpha=0.2801, Effective=0.1235\n",
      "Step 645: Alpha=0.2801, Effective=0.1235\n",
      "Step 646: Alpha=0.2801, Effective=0.1235\n"
     ]
    },
    {
     "name": "stderr",
     "output_type": "stream",
     "text": [
      "RASPID generation:  32%|███▏      | 655/2048 [00:14<00:31, 44.16it/s]"
     ]
    },
    {
     "name": "stdout",
     "output_type": "stream",
     "text": [
      "Step 647: Alpha=0.2801, Effective=0.1235\n",
      "Step 648: Alpha=0.2801, Effective=0.1235\n",
      "Step 649: Alpha=0.2801, Effective=0.1235\n",
      "Step 650: Alpha=0.2801, Effective=0.1235\n",
      "Logit stats: min=-6.11, max=29.47\n",
      "Step 651: Alpha=0.2801, Effective=0.1235\n",
      "Step 652: Alpha=0.2801, Effective=0.1235\n",
      "Step 653: Alpha=0.2801, Effective=0.1235\n",
      "Step 654: Alpha=0.2801, Effective=0.1235\n",
      "Step 655: Alpha=0.2801, Effective=0.1235\n"
     ]
    },
    {
     "name": "stderr",
     "output_type": "stream",
     "text": [
      "RASPID generation:  32%|███▏      | 660/2048 [00:14<00:31, 44.06it/s]"
     ]
    },
    {
     "name": "stdout",
     "output_type": "stream",
     "text": [
      "Step 656: Alpha=0.2801, Effective=0.1235\n",
      "Step 657: Alpha=0.2801, Effective=0.1235\n",
      "Step 658: Alpha=0.2801, Effective=0.1235\n",
      "Step 659: Alpha=0.2801, Effective=0.1235\n",
      "Step 660: Alpha=0.2801, Effective=0.1235\n",
      "Step 661: Alpha=0.2801, Effective=0.1235\n",
      "Step 662: Alpha=0.2801, Effective=0.1235\n",
      "Step 663: Alpha=0.2801, Effective=0.1235\n",
      "Step 664: Alpha=0.2801, Effective=0.1235\n"
     ]
    },
    {
     "name": "stderr",
     "output_type": "stream",
     "text": [
      "RASPID generation:  33%|███▎      | 670/2048 [00:15<00:31, 44.09it/s]"
     ]
    },
    {
     "name": "stdout",
     "output_type": "stream",
     "text": [
      "Step 665: Alpha=0.2801, Effective=0.1235\n",
      "Step 666: Alpha=0.2801, Effective=0.1235\n",
      "Step 667: Alpha=0.2801, Effective=0.1235\n",
      "Step 668: Alpha=0.2801, Effective=0.1235\n",
      "Step 669: Alpha=0.2801, Effective=0.1235\n",
      "Step 670: Alpha=0.2801, Effective=0.1235\n",
      "Step 671: Alpha=0.2801, Effective=0.1235\n",
      "Step 672: Alpha=0.2801, Effective=0.1235\n",
      "Step 673: Alpha=0.2801, Effective=0.1235\n"
     ]
    },
    {
     "name": "stderr",
     "output_type": "stream",
     "text": [
      "RASPID generation:  33%|███▎      | 680/2048 [00:15<00:31, 43.83it/s]"
     ]
    },
    {
     "name": "stdout",
     "output_type": "stream",
     "text": [
      "Step 674: Alpha=0.2801, Effective=0.1235\n",
      "Step 675: Alpha=0.2801, Effective=0.1235\n",
      "Step 676: Alpha=0.2801, Effective=0.1235\n",
      "Step 677: Alpha=0.2801, Effective=0.1235\n",
      "Step 678: Alpha=0.2801, Effective=0.1235\n",
      "Step 679: Alpha=0.2801, Effective=0.1235\n",
      "Step 680: Alpha=0.2801, Effective=0.1235\n",
      "Step 681: Alpha=0.2801, Effective=0.1235\n",
      "Step 682: Alpha=0.2801, Effective=0.1235\n"
     ]
    },
    {
     "name": "stderr",
     "output_type": "stream",
     "text": [
      "RASPID generation:  34%|███▎      | 690/2048 [00:15<00:31, 43.75it/s]"
     ]
    },
    {
     "name": "stdout",
     "output_type": "stream",
     "text": [
      "Step 683: Alpha=0.2801, Effective=0.1235\n",
      "Step 684: Alpha=0.2801, Effective=0.1235\n",
      "Step 685: Alpha=0.2801, Effective=0.1235\n",
      "Step 686: Alpha=0.2801, Effective=0.1235\n",
      "Step 687: Alpha=0.2801, Effective=0.1235\n",
      "Step 688: Alpha=0.2801, Effective=0.1235\n",
      "Step 689: Alpha=0.2801, Effective=0.1235\n",
      "Step 690: Alpha=0.2801, Effective=0.1235\n",
      "Step 691: Alpha=0.2801, Effective=0.1235\n"
     ]
    },
    {
     "name": "stderr",
     "output_type": "stream",
     "text": [
      "RASPID generation:  34%|███▍      | 700/2048 [00:15<00:30, 43.71it/s]"
     ]
    },
    {
     "name": "stdout",
     "output_type": "stream",
     "text": [
      "Step 692: Alpha=0.2801, Effective=0.1235\n",
      "Step 693: Alpha=0.2801, Effective=0.1235\n",
      "Step 694: Alpha=0.2801, Effective=0.1235\n",
      "Step 695: Alpha=0.2801, Effective=0.1235\n",
      "Step 696: Alpha=0.2801, Effective=0.1235\n",
      "Step 697: Alpha=0.2801, Effective=0.1235\n",
      "Step 698: Alpha=0.2801, Effective=0.1235\n",
      "Step 699: Alpha=0.2801, Effective=0.1235\n",
      "Step 700: Alpha=0.2801, Effective=0.1235\n"
     ]
    },
    {
     "name": "stderr",
     "output_type": "stream",
     "text": [
      "RASPID generation:  34%|███▍      | 705/2048 [00:15<00:30, 43.56it/s]"
     ]
    },
    {
     "name": "stdout",
     "output_type": "stream",
     "text": [
      "Logit stats: min=-5.70, max=25.52\n",
      "Step 701: Alpha=0.2801, Effective=0.1235\n",
      "Step 702: Alpha=0.2801, Effective=0.1235\n",
      "Step 703: Alpha=0.2801, Effective=0.1235\n",
      "Step 704: Alpha=0.4486, Effective=0.1853\n",
      "Step 705: Alpha=0.4486, Effective=0.1853\n",
      "Step 706: Alpha=0.4486, Effective=0.1853\n",
      "Step 707: Alpha=0.4486, Effective=0.1853\n",
      "Step 708: Alpha=0.4486, Effective=0.1853\n",
      "Step 709: Alpha=0.4486, Effective=0.1853\n"
     ]
    },
    {
     "name": "stderr",
     "output_type": "stream",
     "text": [
      "RASPID generation:  35%|███▍      | 715/2048 [00:16<00:30, 43.57it/s]"
     ]
    },
    {
     "name": "stdout",
     "output_type": "stream",
     "text": [
      "Step 710: Alpha=0.4486, Effective=0.1853\n",
      "Step 711: Alpha=0.4486, Effective=0.1853\n",
      "Step 712: Alpha=0.4486, Effective=0.1853\n",
      "Step 713: Alpha=0.4486, Effective=0.1853\n",
      "Step 714: Alpha=0.4486, Effective=0.1853\n",
      "Step 715: Alpha=0.4486, Effective=0.1853\n",
      "Step 716: Alpha=0.4486, Effective=0.1853\n",
      "Step 717: Alpha=0.4486, Effective=0.1853\n",
      "Step 718: Alpha=0.4486, Effective=0.1853\n"
     ]
    },
    {
     "name": "stderr",
     "output_type": "stream",
     "text": [
      "RASPID generation:  35%|███▌      | 725/2048 [00:16<00:30, 43.49it/s]"
     ]
    },
    {
     "name": "stdout",
     "output_type": "stream",
     "text": [
      "Step 719: Alpha=0.4486, Effective=0.1853\n",
      "Step 720: Alpha=0.4486, Effective=0.1853\n",
      "Step 721: Alpha=0.4486, Effective=0.1853\n",
      "Step 722: Alpha=0.4486, Effective=0.1853\n",
      "Step 723: Alpha=0.4486, Effective=0.1853\n",
      "Step 724: Alpha=0.4486, Effective=0.1853\n",
      "Step 725: Alpha=0.4486, Effective=0.1853\n",
      "Step 726: Alpha=0.4486, Effective=0.1853\n",
      "Step 727: Alpha=0.4486, Effective=0.1853\n"
     ]
    },
    {
     "name": "stderr",
     "output_type": "stream",
     "text": [
      "RASPID generation:  36%|███▌      | 735/2048 [00:16<00:30, 43.56it/s]"
     ]
    },
    {
     "name": "stdout",
     "output_type": "stream",
     "text": [
      "Step 728: Alpha=0.4486, Effective=0.1853\n",
      "Step 729: Alpha=0.4486, Effective=0.1853\n",
      "Step 730: Alpha=0.4486, Effective=0.1853\n",
      "Step 731: Alpha=0.4486, Effective=0.1853\n",
      "Step 732: Alpha=0.4486, Effective=0.1853\n",
      "Step 733: Alpha=0.4486, Effective=0.1853\n",
      "Step 734: Alpha=0.4486, Effective=0.1853\n",
      "Step 735: Alpha=0.4486, Effective=0.1853\n",
      "Step 736: Alpha=0.4486, Effective=0.1853\n"
     ]
    },
    {
     "name": "stderr",
     "output_type": "stream",
     "text": [
      "RASPID generation:  36%|███▋      | 745/2048 [00:16<00:29, 43.56it/s]"
     ]
    },
    {
     "name": "stdout",
     "output_type": "stream",
     "text": [
      "Step 737: Alpha=0.4486, Effective=0.1853\n",
      "Step 738: Alpha=0.4486, Effective=0.1853\n",
      "Step 739: Alpha=0.4486, Effective=0.1853\n",
      "Step 740: Alpha=0.4486, Effective=0.1853\n",
      "Step 741: Alpha=0.4486, Effective=0.1853\n",
      "Step 742: Alpha=0.4486, Effective=0.1853\n",
      "Step 743: Alpha=0.4486, Effective=0.1853\n",
      "Step 744: Alpha=0.4486, Effective=0.1853\n",
      "Step 745: Alpha=0.4486, Effective=0.1853\n"
     ]
    },
    {
     "name": "stderr",
     "output_type": "stream",
     "text": [
      "RASPID generation:  37%|███▋      | 750/2048 [00:16<00:29, 43.48it/s]"
     ]
    },
    {
     "name": "stdout",
     "output_type": "stream",
     "text": [
      "Step 746: Alpha=0.4486, Effective=0.1853\n",
      "Step 747: Alpha=0.4486, Effective=0.1853\n",
      "Step 748: Alpha=0.4486, Effective=0.1853\n",
      "Step 749: Alpha=0.4486, Effective=0.1853\n",
      "Step 750: Alpha=0.4486, Effective=0.1853\n",
      "Logit stats: min=-6.10, max=28.31\n",
      "Step 751: Alpha=0.4486, Effective=0.1853\n",
      "Step 752: Alpha=0.4486, Effective=0.1853\n",
      "Step 753: Alpha=0.4486, Effective=0.1853\n",
      "Step 754: Alpha=0.4486, Effective=0.1853\n"
     ]
    },
    {
     "name": "stderr",
     "output_type": "stream",
     "text": [
      "RASPID generation:  37%|███▋      | 760/2048 [00:17<00:29, 43.61it/s]"
     ]
    },
    {
     "name": "stdout",
     "output_type": "stream",
     "text": [
      "Step 755: Alpha=0.4486, Effective=0.1853\n",
      "Step 756: Alpha=0.4486, Effective=0.1853\n",
      "Step 757: Alpha=0.4486, Effective=0.1853\n",
      "Step 758: Alpha=0.4486, Effective=0.1853\n",
      "Step 759: Alpha=0.4486, Effective=0.1853\n",
      "Step 760: Alpha=0.4486, Effective=0.1853\n",
      "Step 761: Alpha=0.4486, Effective=0.1853\n",
      "Step 762: Alpha=0.4486, Effective=0.1853\n",
      "Step 763: Alpha=0.4486, Effective=0.1853\n"
     ]
    },
    {
     "name": "stderr",
     "output_type": "stream",
     "text": [
      "RASPID generation:  38%|███▊      | 770/2048 [00:17<00:29, 43.84it/s]"
     ]
    },
    {
     "name": "stdout",
     "output_type": "stream",
     "text": [
      "Step 764: Alpha=0.4486, Effective=0.1853\n",
      "Step 765: Alpha=0.4486, Effective=0.1853\n",
      "Step 766: Alpha=0.4486, Effective=0.1853\n",
      "Step 767: Alpha=0.4486, Effective=0.1853\n",
      "Step 768: Alpha=0.3454, Effective=0.1483\n",
      "Step 769: Alpha=0.3454, Effective=0.1483\n",
      "Step 770: Alpha=0.3454, Effective=0.1483\n",
      "Step 771: Alpha=0.3454, Effective=0.1483\n",
      "Step 772: Alpha=0.3454, Effective=0.1483\n"
     ]
    },
    {
     "name": "stderr",
     "output_type": "stream",
     "text": [
      "RASPID generation:  38%|███▊      | 780/2048 [00:17<00:28, 44.06it/s]"
     ]
    },
    {
     "name": "stdout",
     "output_type": "stream",
     "text": [
      "Step 773: Alpha=0.3454, Effective=0.1483\n",
      "Step 774: Alpha=0.3454, Effective=0.1483\n",
      "Step 775: Alpha=0.3454, Effective=0.1483\n",
      "Step 776: Alpha=0.3454, Effective=0.1483\n",
      "Step 777: Alpha=0.3454, Effective=0.1483\n",
      "Step 778: Alpha=0.3454, Effective=0.1483\n",
      "Step 779: Alpha=0.3454, Effective=0.1483\n",
      "Step 780: Alpha=0.3454, Effective=0.1483\n",
      "Step 781: Alpha=0.3454, Effective=0.1483\n"
     ]
    },
    {
     "name": "stderr",
     "output_type": "stream",
     "text": [
      "RASPID generation:  39%|███▊      | 790/2048 [00:17<00:28, 44.15it/s]"
     ]
    },
    {
     "name": "stdout",
     "output_type": "stream",
     "text": [
      "Step 782: Alpha=0.3454, Effective=0.1483\n",
      "Step 783: Alpha=0.3454, Effective=0.1483\n",
      "Step 784: Alpha=0.3454, Effective=0.1483\n",
      "Step 785: Alpha=0.3454, Effective=0.1483\n",
      "Step 786: Alpha=0.3454, Effective=0.1483\n",
      "Step 787: Alpha=0.3454, Effective=0.1483\n",
      "Step 788: Alpha=0.3454, Effective=0.1483\n",
      "Step 789: Alpha=0.3454, Effective=0.1483\n",
      "Step 790: Alpha=0.3454, Effective=0.1483\n"
     ]
    },
    {
     "name": "stderr",
     "output_type": "stream",
     "text": [
      "RASPID generation:  39%|███▉      | 795/2048 [00:17<00:28, 44.09it/s]"
     ]
    },
    {
     "name": "stdout",
     "output_type": "stream",
     "text": [
      "Step 791: Alpha=0.3454, Effective=0.1483\n",
      "Step 792: Alpha=0.3454, Effective=0.1483\n",
      "Step 793: Alpha=0.3454, Effective=0.1483\n",
      "Step 794: Alpha=0.3454, Effective=0.1483\n",
      "Step 795: Alpha=0.3454, Effective=0.1483\n",
      "Step 796: Alpha=0.3454, Effective=0.1483\n",
      "Step 797: Alpha=0.3454, Effective=0.1483\n",
      "Step 798: Alpha=0.3454, Effective=0.1483\n",
      "Step 799: Alpha=0.3454, Effective=0.1483\n"
     ]
    },
    {
     "name": "stderr",
     "output_type": "stream",
     "text": [
      "RASPID generation:  39%|███▉      | 805/2048 [00:18<00:28, 44.13it/s]"
     ]
    },
    {
     "name": "stdout",
     "output_type": "stream",
     "text": [
      "Step 800: Alpha=0.3454, Effective=0.1483\n",
      "Logit stats: min=-6.40, max=27.32\n",
      "Step 801: Alpha=0.3454, Effective=0.1483\n",
      "Step 802: Alpha=0.3454, Effective=0.1483\n",
      "Step 803: Alpha=0.3454, Effective=0.1483\n",
      "Step 804: Alpha=0.3454, Effective=0.1483\n",
      "Step 805: Alpha=0.3454, Effective=0.1483\n",
      "Step 806: Alpha=0.3454, Effective=0.1483\n",
      "Step 807: Alpha=0.3454, Effective=0.1483\n",
      "Step 808: Alpha=0.3454, Effective=0.1483\n"
     ]
    },
    {
     "name": "stderr",
     "output_type": "stream",
     "text": [
      "RASPID generation:  40%|███▉      | 815/2048 [00:18<00:27, 44.21it/s]"
     ]
    },
    {
     "name": "stdout",
     "output_type": "stream",
     "text": [
      "Step 809: Alpha=0.3454, Effective=0.1483\n",
      "Step 810: Alpha=0.3454, Effective=0.1483\n",
      "Step 811: Alpha=0.3454, Effective=0.1483\n",
      "Step 812: Alpha=0.3454, Effective=0.1483\n",
      "Step 813: Alpha=0.3454, Effective=0.1483\n",
      "Step 814: Alpha=0.3454, Effective=0.1483\n",
      "Step 815: Alpha=0.3454, Effective=0.1483\n",
      "Step 816: Alpha=0.3454, Effective=0.1483\n",
      "Step 817: Alpha=0.3454, Effective=0.1483\n"
     ]
    },
    {
     "name": "stderr",
     "output_type": "stream",
     "text": [
      "RASPID generation:  40%|████      | 825/2048 [00:18<00:27, 44.21it/s]"
     ]
    },
    {
     "name": "stdout",
     "output_type": "stream",
     "text": [
      "Step 818: Alpha=0.3454, Effective=0.1483\n",
      "Step 819: Alpha=0.3454, Effective=0.1483\n",
      "Step 820: Alpha=0.3454, Effective=0.1483\n",
      "Step 821: Alpha=0.3454, Effective=0.1483\n",
      "Step 822: Alpha=0.3454, Effective=0.1483\n",
      "Step 823: Alpha=0.3454, Effective=0.1483\n",
      "Step 824: Alpha=0.3454, Effective=0.1483\n",
      "Step 825: Alpha=0.3454, Effective=0.1483\n",
      "Step 826: Alpha=0.3454, Effective=0.1483\n"
     ]
    },
    {
     "name": "stderr",
     "output_type": "stream",
     "text": [
      "RASPID generation:  41%|████      | 835/2048 [00:18<00:27, 44.19it/s]"
     ]
    },
    {
     "name": "stdout",
     "output_type": "stream",
     "text": [
      "Step 827: Alpha=0.3454, Effective=0.1483\n",
      "Step 828: Alpha=0.3454, Effective=0.1483\n",
      "Step 829: Alpha=0.3454, Effective=0.1483\n",
      "Step 830: Alpha=0.3454, Effective=0.1483\n",
      "Step 831: Alpha=0.3454, Effective=0.1483\n",
      "Step 832: Alpha=0.7348, Effective=0.2754\n",
      "Step 833: Alpha=0.7348, Effective=0.2754\n",
      "Step 834: Alpha=0.7348, Effective=0.2754\n",
      "Step 835: Alpha=0.7348, Effective=0.2754\n"
     ]
    },
    {
     "name": "stderr",
     "output_type": "stream",
     "text": [
      "RASPID generation:  41%|████      | 840/2048 [00:18<00:27, 44.11it/s]"
     ]
    },
    {
     "name": "stdout",
     "output_type": "stream",
     "text": [
      "Step 836: Alpha=0.7348, Effective=0.2754\n",
      "Step 837: Alpha=0.7348, Effective=0.2754\n",
      "Step 838: Alpha=0.7348, Effective=0.2754\n",
      "Step 839: Alpha=0.7348, Effective=0.2754\n",
      "Step 840: Alpha=0.7348, Effective=0.2754\n",
      "Step 841: Alpha=0.7348, Effective=0.2754\n",
      "Step 842: Alpha=0.7348, Effective=0.2754\n",
      "Step 843: Alpha=0.7348, Effective=0.2754\n",
      "Step 844: Alpha=0.7348, Effective=0.2754\n"
     ]
    },
    {
     "name": "stderr",
     "output_type": "stream",
     "text": [
      "RASPID generation:  42%|████▏     | 850/2048 [00:19<00:27, 44.16it/s]"
     ]
    },
    {
     "name": "stdout",
     "output_type": "stream",
     "text": [
      "Step 845: Alpha=0.7348, Effective=0.2754\n",
      "Step 846: Alpha=0.7348, Effective=0.2754\n",
      "Step 847: Alpha=0.7348, Effective=0.2754\n",
      "Step 848: Alpha=0.7348, Effective=0.2754\n",
      "Step 849: Alpha=0.7348, Effective=0.2754\n",
      "Step 850: Alpha=0.7348, Effective=0.2754\n",
      "Logit stats: min=-5.54, max=26.95\n",
      "Step 851: Alpha=0.7348, Effective=0.2754\n",
      "Step 852: Alpha=0.7348, Effective=0.2754\n",
      "Step 853: Alpha=0.7348, Effective=0.2754\n"
     ]
    },
    {
     "name": "stderr",
     "output_type": "stream",
     "text": [
      "RASPID generation:  42%|████▏     | 860/2048 [00:19<00:26, 44.23it/s]"
     ]
    },
    {
     "name": "stdout",
     "output_type": "stream",
     "text": [
      "Step 854: Alpha=0.7348, Effective=0.2754\n",
      "Step 855: Alpha=0.7348, Effective=0.2754\n",
      "Step 856: Alpha=0.7348, Effective=0.2754\n",
      "Step 857: Alpha=0.7348, Effective=0.2754\n",
      "Step 858: Alpha=0.7348, Effective=0.2754\n",
      "Step 859: Alpha=0.7348, Effective=0.2754\n",
      "Step 860: Alpha=0.7348, Effective=0.2754\n",
      "Step 861: Alpha=0.7348, Effective=0.2754\n",
      "Step 862: Alpha=0.7348, Effective=0.2754\n"
     ]
    },
    {
     "name": "stderr",
     "output_type": "stream",
     "text": [
      "RASPID generation:  42%|████▏     | 870/2048 [00:19<00:26, 44.25it/s]"
     ]
    },
    {
     "name": "stdout",
     "output_type": "stream",
     "text": [
      "Step 863: Alpha=0.7348, Effective=0.2754\n",
      "Step 864: Alpha=0.7348, Effective=0.2754\n",
      "Step 865: Alpha=0.7348, Effective=0.2754\n",
      "Step 866: Alpha=0.7348, Effective=0.2754\n",
      "Step 867: Alpha=0.7348, Effective=0.2754\n",
      "Step 868: Alpha=0.7348, Effective=0.2754\n",
      "Step 869: Alpha=0.7348, Effective=0.2754\n",
      "Step 870: Alpha=0.7348, Effective=0.2754\n",
      "Step 871: Alpha=0.7348, Effective=0.2754\n"
     ]
    },
    {
     "name": "stderr",
     "output_type": "stream",
     "text": [
      "RASPID generation:  43%|████▎     | 880/2048 [00:19<00:26, 44.25it/s]"
     ]
    },
    {
     "name": "stdout",
     "output_type": "stream",
     "text": [
      "Step 872: Alpha=0.7348, Effective=0.2754\n",
      "Step 873: Alpha=0.7348, Effective=0.2754\n",
      "Step 874: Alpha=0.7348, Effective=0.2754\n",
      "Step 875: Alpha=0.7348, Effective=0.2754\n",
      "Step 876: Alpha=0.7348, Effective=0.2754\n",
      "Step 877: Alpha=0.7348, Effective=0.2754\n",
      "Step 878: Alpha=0.7348, Effective=0.2754\n",
      "Step 879: Alpha=0.7348, Effective=0.2754\n",
      "Step 880: Alpha=0.7348, Effective=0.2754\n"
     ]
    },
    {
     "name": "stderr",
     "output_type": "stream",
     "text": [
      "RASPID generation:  43%|████▎     | 885/2048 [00:19<00:26, 44.20it/s]"
     ]
    },
    {
     "name": "stdout",
     "output_type": "stream",
     "text": [
      "Step 881: Alpha=0.7348, Effective=0.2754\n",
      "Step 882: Alpha=0.7348, Effective=0.2754\n",
      "Step 883: Alpha=0.7348, Effective=0.2754\n",
      "Step 884: Alpha=0.7348, Effective=0.2754\n",
      "Step 885: Alpha=0.7348, Effective=0.2754\n",
      "Step 886: Alpha=0.7348, Effective=0.2754\n",
      "Step 887: Alpha=0.7348, Effective=0.2754\n",
      "Step 888: Alpha=0.7348, Effective=0.2754\n",
      "Step 889: Alpha=0.7348, Effective=0.2754\n"
     ]
    },
    {
     "name": "stderr",
     "output_type": "stream",
     "text": [
      "RASPID generation:  44%|████▎     | 895/2048 [00:20<00:26, 44.25it/s]"
     ]
    },
    {
     "name": "stdout",
     "output_type": "stream",
     "text": [
      "Step 890: Alpha=0.7348, Effective=0.2754\n",
      "Step 891: Alpha=0.7348, Effective=0.2754\n",
      "Step 892: Alpha=0.7348, Effective=0.2754\n",
      "Step 893: Alpha=0.7348, Effective=0.2754\n",
      "Step 894: Alpha=0.7348, Effective=0.2754\n",
      "Step 895: Alpha=0.7348, Effective=0.2754\n",
      "Step 896: Alpha=0.3742, Effective=0.1589\n",
      "Step 897: Alpha=0.3742, Effective=0.1589\n",
      "Step 898: Alpha=0.3742, Effective=0.1589\n"
     ]
    },
    {
     "name": "stderr",
     "output_type": "stream",
     "text": [
      "RASPID generation:  44%|████▍     | 905/2048 [00:20<00:25, 44.25it/s]"
     ]
    },
    {
     "name": "stdout",
     "output_type": "stream",
     "text": [
      "Step 899: Alpha=0.3742, Effective=0.1589\n",
      "Step 900: Alpha=0.3742, Effective=0.1589\n",
      "Logit stats: min=-10.17, max=33.37\n",
      "Step 901: Alpha=0.3742, Effective=0.1589\n",
      "Step 902: Alpha=0.3742, Effective=0.1589\n",
      "Step 903: Alpha=0.3742, Effective=0.1589\n",
      "Step 904: Alpha=0.3742, Effective=0.1589\n",
      "Step 905: Alpha=0.3742, Effective=0.1589\n",
      "Step 906: Alpha=0.3742, Effective=0.1589\n",
      "Step 907: Alpha=0.3742, Effective=0.1589\n"
     ]
    },
    {
     "name": "stderr",
     "output_type": "stream",
     "text": [
      "RASPID generation:  45%|████▍     | 915/2048 [00:20<00:25, 44.28it/s]"
     ]
    },
    {
     "name": "stdout",
     "output_type": "stream",
     "text": [
      "Step 908: Alpha=0.3742, Effective=0.1589\n",
      "Step 909: Alpha=0.3742, Effective=0.1589\n",
      "Step 910: Alpha=0.3742, Effective=0.1589\n",
      "Step 911: Alpha=0.3742, Effective=0.1589\n",
      "Step 912: Alpha=0.3742, Effective=0.1589\n",
      "Step 913: Alpha=0.3742, Effective=0.1589\n",
      "Step 914: Alpha=0.3742, Effective=0.1589\n",
      "Step 915: Alpha=0.3742, Effective=0.1589\n",
      "Step 916: Alpha=0.3742, Effective=0.1589\n"
     ]
    },
    {
     "name": "stderr",
     "output_type": "stream",
     "text": [
      "RASPID generation:  45%|████▌     | 925/2048 [00:20<00:25, 44.29it/s]"
     ]
    },
    {
     "name": "stdout",
     "output_type": "stream",
     "text": [
      "Step 917: Alpha=0.3742, Effective=0.1589\n",
      "Step 918: Alpha=0.3742, Effective=0.1589\n",
      "Step 919: Alpha=0.3742, Effective=0.1589\n",
      "Step 920: Alpha=0.3742, Effective=0.1589\n",
      "Step 921: Alpha=0.3742, Effective=0.1589\n",
      "Step 922: Alpha=0.3742, Effective=0.1589\n",
      "Step 923: Alpha=0.3742, Effective=0.1589\n",
      "Step 924: Alpha=0.3742, Effective=0.1589\n",
      "Step 925: Alpha=0.3742, Effective=0.1589\n"
     ]
    },
    {
     "name": "stderr",
     "output_type": "stream",
     "text": [
      "RASPID generation:  45%|████▌     | 930/2048 [00:20<00:25, 44.24it/s]"
     ]
    },
    {
     "name": "stdout",
     "output_type": "stream",
     "text": [
      "Step 926: Alpha=0.3742, Effective=0.1589\n",
      "Step 927: Alpha=0.3742, Effective=0.1589\n",
      "Step 928: Alpha=0.3742, Effective=0.1589\n",
      "Step 929: Alpha=0.3742, Effective=0.1589\n",
      "Step 930: Alpha=0.3742, Effective=0.1589\n",
      "Step 931: Alpha=0.3742, Effective=0.1589\n",
      "Step 932: Alpha=0.3742, Effective=0.1589\n",
      "Step 933: Alpha=0.3742, Effective=0.1589\n",
      "Step 934: Alpha=0.3742, Effective=0.1589\n"
     ]
    },
    {
     "name": "stderr",
     "output_type": "stream",
     "text": [
      "RASPID generation:  46%|████▌     | 940/2048 [00:21<00:25, 44.25it/s]"
     ]
    },
    {
     "name": "stdout",
     "output_type": "stream",
     "text": [
      "Step 935: Alpha=0.3742, Effective=0.1589\n",
      "Step 936: Alpha=0.3742, Effective=0.1589\n",
      "Step 937: Alpha=0.3742, Effective=0.1589\n",
      "Step 938: Alpha=0.3742, Effective=0.1589\n",
      "Step 939: Alpha=0.3742, Effective=0.1589\n",
      "Step 940: Alpha=0.3742, Effective=0.1589\n",
      "Step 941: Alpha=0.3742, Effective=0.1589\n",
      "Step 942: Alpha=0.3742, Effective=0.1589\n",
      "Step 943: Alpha=0.3742, Effective=0.1589\n"
     ]
    },
    {
     "name": "stderr",
     "output_type": "stream",
     "text": [
      "RASPID generation:  46%|████▋     | 950/2048 [00:21<00:24, 44.37it/s]"
     ]
    },
    {
     "name": "stdout",
     "output_type": "stream",
     "text": [
      "Step 944: Alpha=0.3742, Effective=0.1589\n",
      "Step 945: Alpha=0.3742, Effective=0.1589\n",
      "Step 946: Alpha=0.3742, Effective=0.1589\n",
      "Step 947: Alpha=0.3742, Effective=0.1589\n",
      "Step 948: Alpha=0.3742, Effective=0.1589\n",
      "Step 949: Alpha=0.3742, Effective=0.1589\n",
      "Step 950: Alpha=0.3742, Effective=0.1589\n",
      "Logit stats: min=-7.09, max=24.97\n",
      "Step 951: Alpha=0.3742, Effective=0.1589\n",
      "Step 952: Alpha=0.3742, Effective=0.1589\n"
     ]
    },
    {
     "name": "stderr",
     "output_type": "stream",
     "text": [
      "RASPID generation:  47%|████▋     | 960/2048 [00:21<00:24, 44.30it/s]"
     ]
    },
    {
     "name": "stdout",
     "output_type": "stream",
     "text": [
      "Step 953: Alpha=0.3742, Effective=0.1589\n",
      "Step 954: Alpha=0.3742, Effective=0.1589\n",
      "Step 955: Alpha=0.3742, Effective=0.1589\n",
      "Step 956: Alpha=0.3742, Effective=0.1589\n",
      "Step 957: Alpha=0.3742, Effective=0.1589\n",
      "Step 958: Alpha=0.3742, Effective=0.1589\n",
      "Step 959: Alpha=0.3742, Effective=0.1589\n",
      "Step 960: Alpha=0.1302, Effective=0.0612\n",
      "Step 961: Alpha=0.1302, Effective=0.0612\n"
     ]
    }
   ],
   "source": [
    "# ---------------- RUN BENCHMARK ------------------------------------------\n",
    "print(\"\\n• Running benchmark with duck eggs problem...\")\n",
    "test_problem = \"Janet's ducks lay 16 eggs per day. She eats three for breakfast every morning and bakes muffins for her friends every day with four. She sells the remainder at the farmers' market daily for $2 per fresh duck egg. How much in dollars does she make every day at the farmers' market?\"\n",
    "prompt = f\"{test_problem}\\n\\nAnswer step by step and end with: Final answer: \\\\boxed{{numeric_value}}\"\n",
    "# Run both generators\n",
    "baseline_text, baseline_tokens = generate_baseline(prompt)\n",
    "raspid_text, raspid_tokens = generate_raspid(prompt)\n",
    "\n",
    "# Calculate token savings\n",
    "token_saving = (1 - raspid_tokens/baseline_tokens)*100\n",
    "\n",
    "# Display results\n",
    "print(\"\\n──────── SUMMARY ───────────────\")\n",
    "print(f\"BASE: {baseline_tokens} new tokens\")\n",
    "print(f\"RAST: {raspid_tokens} new tokens\") \n",
    "print(f\"Token saving: {token_saving:.1f}%\")\n",
    "print(\"─────────────────────────────────\")\n",
    "\n",
    "print(\"\\n──────── BASELINE OUTPUT ───────────────\")\n",
    "print(baseline_text)\n",
    "print(\"\\n──────── RASPID OUTPUT ───────────────\")\n",
    "print(raspid_text)\n",
    "print(\"─────────────────────────────────\")"
   ]
  }
 ],
 "metadata": {
  "kernelspec": {
   "display_name": "Python 3 (ipykernel)",
   "language": "python",
   "name": "python3"
  },
  "language_info": {
   "codemirror_mode": {
    "name": "ipython",
    "version": 3
   },
   "file_extension": ".py",
   "mimetype": "text/x-python",
   "name": "python",
   "nbconvert_exporter": "python",
   "pygments_lexer": "ipython3",
   "version": "3.10.16"
  }
 },
 "nbformat": 4,
 "nbformat_minor": 5
}
