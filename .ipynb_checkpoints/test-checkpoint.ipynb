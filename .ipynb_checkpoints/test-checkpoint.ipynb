{
 "cells": [
  {
   "cell_type": "code",
   "execution_count": null,
   "id": "f2a33879-45c2-49ee-b508-32bbc9fa7631",
   "metadata": {},
   "outputs": [],
   "source": [
    "from steerit import *\n",
    "\n",
    "if __name__ == \"__main__\":\n",
    "    # 1) Load a DeepSeek-R1-Distill-Qwen-1.5B\n",
    "    model_name = \"deepseek-ai/DeepSeek-R1-Distill-Qwen-1.5B\"\n",
    "    tokenizer = AutoTokenizer.from_pretrained(model_name)\n",
    "    tokenizer.pad_token = tokenizer.eos_token\n",
    "    base_model = AutoModelForCausalLM.from_pretrained(model_name).to(\"cpu\")\n",
    "\n",
    "    # 2) Wrap with SteeringModel, specifying which layers to intercept (let's pick last 2 layers)\n",
    "    chosen_layers = [10, 11]  # for sshleifer/tiny-gpt2, there are 12 layers\n",
    "    model = SteeringModel(base_model, chosen_layers).to(\"cpu\")\n",
    "\n",
    "    # 3) Define a few contrastive prompt pairs\n",
    "    prompt_pairs = [\n",
    "        (\"I am extremely happy about life\", \"I am extremely sad about life\"),\n",
    "        (\"You are a joyful person\", \"You are a depressed person\"),\n",
    "    ]\n",
    "\n",
    "    # 4) Train the SteeringVector\n",
    "    # We set show_progress=True to see tqdm progress bars\n",
    "    steering_vec = train_steering_vector(\n",
    "        model, tokenizer, prompt_pairs, layer_ids=chosen_layers,\n",
    "        method=\"pca_diff\", batch_size=1, show_progress=True\n",
    "    )\n",
    "\n",
    "    # 5) Compare unsteered vs. steered generation\n",
    "    prompt = \"Tell me how you feel today:\"\n",
    "    print(\"\\n--- Baseline Generation ---\")\n",
    "    model.reset_steering()\n",
    "    baseline_text = model.generate_text(prompt, tokenizer, max_new_tokens=20, show_progress=True)\n",
    "    print(baseline_text)\n",
    "\n",
    "    print(\"\\n--- Steered Generation (towards happy) ---\")\n",
    "    model.set_steering(steering_vec, coeff=10.0)  # big coefficient to see stronger effect\n",
    "    steered_text = model.generate_text(prompt, tokenizer, max_new_tokens=20, show_progress=True)\n",
    "    print(steered_text)\n",
    "\n",
    "    print(\"\\n--- Steered Generation (towards sad) ---\")\n",
    "    # negative direction\n",
    "    model.set_steering(-steering_vec, coeff=10.0)\n",
    "    steered_text_sad = model.generate_text(prompt, tokenizer, max_new_tokens=20, show_progress=True)\n",
    "    print(steered_text_sad)\n"
   ]
  },
  {
   "cell_type": "code",
   "execution_count": null,
   "id": "2d49b653-5446-4e04-b152-6e14908b5b12",
   "metadata": {},
   "outputs": [],
   "source": []
  }
 ],
 "metadata": {
  "kernelspec": {
   "display_name": "Python 3 (ipykernel)",
   "language": "python",
   "name": "python3"
  },
  "language_info": {
   "codemirror_mode": {
    "name": "ipython",
    "version": 3
   },
   "file_extension": ".py",
   "mimetype": "text/x-python",
   "name": "python",
   "nbconvert_exporter": "python",
   "pygments_lexer": "ipython3",
   "version": "3.11.3"
  }
 },
 "nbformat": 4,
 "nbformat_minor": 5
}
